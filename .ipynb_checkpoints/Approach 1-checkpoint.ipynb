{
 "cells": [
  {
   "cell_type": "code",
   "execution_count": 1,
   "metadata": {
    "colab": {},
    "colab_type": "code",
    "id": "mDOqUp0itn9a"
   },
   "outputs": [],
   "source": [
    "from gensim.models import Word2Vec\n",
    "from gensim.test.utils import common_texts, get_tmpfile\n",
    "import gensim.downloader as api"
   ]
  },
  {
   "cell_type": "code",
   "execution_count": null,
   "metadata": {
    "colab": {
     "base_uri": "https://localhost:8080/",
     "height": 89
    },
    "colab_type": "code",
    "id": "TvLJv8McuoIH",
    "outputId": "a6a6e102-6993-4764-9619-c3bf8ce59e5b"
   },
   "outputs": [
    {
     "name": "stdout",
     "output_type": "stream",
     "text": [
      "[====----------------------------------------------] 9.4% 18.8/199.5MB downloaded"
     ]
    }
   ],
   "source": [
    "model = api.load(\"glove-twitter-50\")"
   ]
  },
  {
   "cell_type": "code",
   "execution_count": null,
   "metadata": {
    "colab": {},
    "colab_type": "code",
    "id": "M-lTHV3vFu8m"
   },
   "outputs": [],
   "source": [
    "import numpy as np"
   ]
  },
  {
   "cell_type": "code",
   "execution_count": null,
   "metadata": {
    "colab": {},
    "colab_type": "code",
    "id": "rc-NnbnD4yQu"
   },
   "outputs": [],
   "source": [
    "from numpy import dot\n",
    "from numpy.linalg import norm"
   ]
  },
  {
   "cell_type": "code",
   "execution_count": null,
   "metadata": {
    "colab": {},
    "colab_type": "code",
    "id": "bJAwEJUE5DtW"
   },
   "outputs": [],
   "source": [
    "cos_sim = dot(vec, model[\"queen\"])/(norm(vec)*norm(model[\"queen\"]))"
   ]
  },
  {
   "cell_type": "code",
   "execution_count": null,
   "metadata": {
    "colab": {},
    "colab_type": "code",
    "id": "b3rPvFha5cZl"
   },
   "outputs": [],
   "source": [
    "abstracts={\n",
    "    \"evaluation of vitro and in vivo anti-Toxoplasma gondii (T. gondii) effect of 5-oxo-hexahydroquinoline compounds\":\"Background and purpose: The aim of this study was to evaluate the in vitro and in vivo anti-Toxoplasma gondii (T. gondii) effect of 5-oxo-hexahydroquinoline compounds. Moreover, molecular docking study of the compounds into the active site of enoyl-acyl carrier protein reductase (ENR) as a necessary enzyme for the vitality of apicoplast was carried out. Experimental approach: A number of 5-oxo-hexahydoquinoline derivatives (Z1-Z4) were synthesized. The T. gondii tachyzoites of RH strain were treated by different concentrations (1-64 μg/mL) of the compounds. The viability of the encountered parasites with compounds was assessed using flow cytometry and propidium iodide (PI) staining. Due to the high mortality effect of Z3 and Z4 in vitro, their chemotherapy effect was assessed by inoculation of tachyzoites to four BALB/c mice groups (n = 5), followed by the gavage of various concentrations of the compounds to the mice. Molecular docking was done to study the binding affinity of the synthesized 5-oxo-hexahydroquinolines into ENR enzyme active site byusing AutoDock Vina® software. Docking was performed by a Lamarckian Genetic Algorithm with 100 runs. Findings / Results: Flow cytometry assay results indicated compounds Z3 and Z4 had relevant mortality effect on parasite tachyzoites. Besides, in vivo experiments were also performed and a partial increase of mice longevity between control and experiment groups was recorded. Molecular docking of Z3 and Z4 in the binding site of ENR enzyme indicated that the compounds were well accommodated within the binding site. Therefore, it could be suggested that these compounds may exert their anti-T. gondii activity through the inhibition of the ENR enzyme. Conclusion and implications: Compounds Z3 and Z4 are good leads in order to develop better anti-T. gondii agents as they demonstrated both in vitro and in vivo inhibitory effects on tachyzoites viability and infection. Further studies on altering the route of administration along with additional pharmacokinetics evaluations are needed to improve the anti-T. gondii impacts of 5-oxo-hexahydroquinoline compounds.\",\n",
    "    \"The effect of pramlintide, an antidiabetic amylin analogue, on angiogenesis-related markers in vitro Leila Safaeian1,*, Golnaz Vaseghi2, Mina Mirian3, and Mehdi Dehghani Firoozabadi1\":\"Background and purpose: Irregularities of angiogenesis may participate in the pathogenesis of diabetes complications. Pramlintide is an amylin analogue administered for the treatment of type 1 and type 2 diabetes. The present investigation aimed at surveying the effect of pramlintide on angiogenesis-related markers in human umbilical vein endothelial cells (HUVECs). Experimental approach: The proliferation of cells was assessed using 3-(4,5-dimethylthiazol-2-yl)-2,5-diphenyltetrazolium bromide (MTT) method. The effect of pramlintide on migration was estimated by Transwell® assay. in vitro evaluation of angiogenesis was performed by tube formation assay. The secretion of vascular endothelial growth factor (VEGF) to the supernatant of HUVECs was measured by an enzymelinked immunosorbent assay (ELISA) kit. All experiments were performed in triplicate. Findings / Results: Pramlintide exhibited no inhibitory effect on HUVECs proliferation. It significantly increased cell migration at the concentration of 1 µg/mL. Pramlintide (1 µg/mL) also enhanced average tubules length, size, and the mean number of junctions. However, there was not any significant change in VEGF release from HUVECs. Conclusion and implications: Findings of this research revealed the effect of pramlintide on angiogenes is related markers via enhancing migration and tubulogenesis in vitro, suggesting a worth while proposition for further clinical researches on improving vascular complications and healing of diabetic wounds.\",\n",
    "    \"Pharmaceutical Care in a Patient with Recurrent Infection after Liver Transplant\":\"Case (description): A case of a 57-year-old liver transplant patient with biliary drainage catheter whose recurrent infection was managed by clinical pharmacists. The suggestions about the choice of antibiotic regimen and the monitoring to other related infection factors, such as biliary drainage catheter and concentration of tracrolimus, were accepted and used to the patient. The state of the infected patient was improved. Conclusion: The antibiotics’ distribution, antibacterial effect, and drug resistance could be taken into consideration for the patients with recurrent infection after liver transplant. The resistance of antibiotics could be deferred by altering suitable antibiotics. Close care to catheter and immunosuppressants could be necessary to prevent infection for the patients after transplant.\",\n",
    "    \"Pharmacological Options Beyond Proton Pump Inhibitors in Children with Gastroesophageal Reflux Disease\":\"Pharmacological treatment of gastroesophageal reflux (GER) disease is mostly based on acid control. However, different molecules have been proposed both for patients with persisting symptoms and to limit adverse effects of proton pump inhibitors (PPI). This paper focuses on other acid inhibitors, alginate, prokinetics, drug acting on lower esophageal sphincter and esophageal hypersensitivity. Mechanism of action, indications, efficacy, limits and recent advances are reported. Pediatric data and possible adverse effects are also considered.\",\n",
    "    \"A Comprehensive Review Article on Isoprostanes as Biological Markers\":\"Various obsessive procedures include free radical intervened oxidative anxiety. The elaboration of solid and nonintrusive strategies for the assessment of oxidative worry in human body is a standout amongst the most critical strides towards perceiving the assortment of oxidative disorders apparently created by Reactive Oxygen Species (ROS). Lipid peroxidation is a standout amongst the most well-known components related with oxidative anxiety, and the estimation of lipid peroxidation items has been utilized to assess oxidative worry in vivo conditions. The estimation of conjugated dienes and lipid hydro peroxide, while the evaluation of optional final results incorporates thiobarbituric acid reactive substances, vaporous alkanes and prostaglandin F2-like items, named F2-isoprostanes (F2-iPs). As of late, F2-iPs have been viewed as the most significant, precise and solid marker of oxidative worry in vivo and their evaluation is suggested for surveying oxidant wounds in people. The motivation behind this paper is to give some data on organic chemistry of isoprostanes and their use as a marker of oxidative anxiety.\"\n",
    "}"
   ]
  },
  {
   "cell_type": "code",
   "execution_count": null,
   "metadata": {
    "colab": {
     "base_uri": "https://localhost:8080/",
     "height": 87
    },
    "colab_type": "code",
    "id": "L1Dwwf3M9y-K",
    "outputId": "ab9e7adb-3dee-4649-82c0-966afd4957e5"
   },
   "outputs": [],
   "source": [
    "from nltk.corpus import stopwords \n",
    "from nltk.tokenize import word_tokenize \n",
    "import nltk\n",
    "nltk.download('punkt')\n",
    "nltk.download('stopwords')\n",
    "puncs=\"!#$%&'()*+,-./:;<=>?@[\\]^_`{|}~\""
   ]
  },
  {
   "cell_type": "code",
   "execution_count": null,
   "metadata": {
    "colab": {},
    "colab_type": "code",
    "id": "YXDZRWGGAJYx"
   },
   "outputs": [],
   "source": [
    "stop_words = set(stopwords.words('english')) "
   ]
  },
  {
   "cell_type": "code",
   "execution_count": null,
   "metadata": {
    "colab": {},
    "colab_type": "code",
    "id": "i2Nh0TwnASKn"
   },
   "outputs": [],
   "source": [
    "abstract_filtered=dict()"
   ]
  },
  {
   "cell_type": "code",
   "execution_count": null,
   "metadata": {
    "colab": {
     "base_uri": "https://localhost:8080/",
     "height": 211
    },
    "colab_type": "code",
    "id": "zCIwWYguAalZ",
    "outputId": "bb0b1c47-a93c-4beb-c606-d393a0d458f7"
   },
   "outputs": [],
   "source": [
    "for key, abstract in abstracts.items():\n",
    "  temp_list=[]\n",
    "  print(key,\"\\n\")\n",
    "  for word in word_tokenize(abstract):\n",
    "    if word not in stop_words:\n",
    "      if word not in puncs:\n",
    "        temp_list.append(word)\n",
    "  abstract_filtered[key]=temp_list"
   ]
  },
  {
   "cell_type": "code",
   "execution_count": null,
   "metadata": {
    "colab": {},
    "colab_type": "code",
    "id": "Yo_Yzhs2Becw"
   },
   "outputs": [],
   "source": [
    "#Abstract to vector\n",
    "abstract2vec=dict()\n",
    "for key, abstract in abstract_filtered.items():\n",
    "  centroid=np.zeros((50,))\n",
    "  for word in abstract:\n",
    "    try:\n",
    "      centroid+=model[word.lower()]\n",
    "    except:\n",
    "      pass\n",
    "  centroid/=len(abstract)\n",
    "  abstract2vec[key]=centroid\n",
    "      "
   ]
  },
  {
   "cell_type": "code",
   "execution_count": null,
   "metadata": {
    "colab": {
     "base_uri": "https://localhost:8080/",
     "height": 904
    },
    "colab_type": "code",
    "id": "8lhezc49GKox",
    "outputId": "b7530160-15e6-40d5-bd27-4e358b1c7511"
   },
   "outputs": [],
   "source": [
    "abstract2vec"
   ]
  },
  {
   "cell_type": "code",
   "execution_count": null,
   "metadata": {
    "colab": {
     "base_uri": "https://localhost:8080/",
     "height": 191
    },
    "colab_type": "code",
    "id": "PovKfpLQG23t",
    "outputId": "b8855234-9752-441c-c907-ef15e4cb37c2"
   },
   "outputs": [],
   "source": [
    "results=dict()\n",
    "query=\"evaluation of vitro\"\n",
    "#Abstract to vector\n",
    "query2vec=np.zeros((50,))\n",
    "query_tokenized=word_tokenize(query)\n",
    "for word in query_tokenized:\n",
    "  if word not in stop_words:\n",
    "    if word not in puncs:\n",
    "      try:\n",
    "        query2vec+=model[word]\n",
    "      except:\n",
    "        pass\n",
    "query2vec/=len(query_tokenized)\n",
    "query2vec\n"
   ]
  },
  {
   "cell_type": "code",
   "execution_count": null,
   "metadata": {
    "colab": {
     "base_uri": "https://localhost:8080/",
     "height": 124
    },
    "colab_type": "code",
    "id": "Va5AC0aTKPc7",
    "outputId": "5194954b-ea3d-4bdd-d91d-88fa757896c7"
   },
   "outputs": [],
   "source": [
    "for key, abstract_vec in abstract2vec.items():\n",
    "  cos_sim = dot(abstract_vec, query2vec)/(norm(abstract_vec)*norm(query2vec))\n",
    "  results[key]=cos_sim\n",
    "\n",
    "results"
   ]
  },
  {
   "cell_type": "code",
   "execution_count": null,
   "metadata": {
    "colab": {},
    "colab_type": "code",
    "id": "VEKtE-T0Lw-u"
   },
   "outputs": [],
   "source": []
  }
 ],
 "metadata": {
  "colab": {
   "name": "Semantic Search Model.ipynb",
   "provenance": []
  },
  "kernelspec": {
   "display_name": "Python 3",
   "language": "python",
   "name": "python3"
  },
  "language_info": {
   "codemirror_mode": {
    "name": "ipython",
    "version": 3
   },
   "file_extension": ".py",
   "mimetype": "text/x-python",
   "name": "python",
   "nbconvert_exporter": "python",
   "pygments_lexer": "ipython3",
   "version": "3.8.2"
  }
 },
 "nbformat": 4,
 "nbformat_minor": 1
}
