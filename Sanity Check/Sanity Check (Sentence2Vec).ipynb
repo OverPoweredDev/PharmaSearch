{
 "cells": [
  {
   "cell_type": "code",
   "execution_count": 1,
   "metadata": {},
   "outputs": [],
   "source": [
    "import gensim.downloader as api\n",
    "from gensim.models import Word2Vec\n",
    "import numpy as np"
   ]
  },
  {
   "cell_type": "code",
   "execution_count": 2,
   "metadata": {},
   "outputs": [],
   "source": [
    "#Get common text corpus and train a gensim model on that\n",
    "dataset = api.load(\"text8\")\n",
    "model = Word2Vec(dataset)"
   ]
  },
  {
   "cell_type": "code",
   "execution_count": 3,
   "metadata": {},
   "outputs": [],
   "source": [
    "import glob\n",
    "import os\n",
    "import re"
   ]
  },
  {
   "cell_type": "code",
   "execution_count": 4,
   "metadata": {},
   "outputs": [
    {
     "data": {
      "text/plain": [
       "[]"
      ]
     },
     "execution_count": 4,
     "metadata": {},
     "output_type": "execute_result"
    }
   ],
   "source": [
    "#get the name of all the test files\n",
    "file_list=glob.glob(\"data/*.txt\")\n",
    "file_list"
   ]
  },
  {
   "cell_type": "code",
   "execution_count": 5,
   "metadata": {},
   "outputs": [
    {
     "data": {
      "text/plain": [
       "[]"
      ]
     },
     "execution_count": 5,
     "metadata": {},
     "output_type": "execute_result"
    }
   ],
   "source": [
    "name_list=[file.replace(\"data/\",\"\").replace(\".txt\",\"\") for file in file_list]\n",
    "name_list"
   ]
  },
  {
   "cell_type": "code",
   "execution_count": 6,
   "metadata": {},
   "outputs": [],
   "source": [
    "content_list=dict()\n",
    "#remove redundant characters\n",
    "for name in name_list:\n",
    "    with open(\"data/\"+name+\".txt\",\"r\", encoding=\"utf-8\") as f:\n",
    "        for line in f.readlines():\n",
    "            line=re.sub('[^A-Za-z.]+', ' ', line)\n",
    "            content_list[name]=line"
   ]
  },
  {
   "cell_type": "code",
   "execution_count": 7,
   "metadata": {},
   "outputs": [],
   "source": [
    "#divide the document into sentences\n",
    "for key, content in content_list.items():\n",
    "    content_list[key]=content.split(\".\")"
   ]
  },
  {
   "cell_type": "code",
   "execution_count": 8,
   "metadata": {},
   "outputs": [
    {
     "data": {
      "text/plain": [
       "{}"
      ]
     },
     "execution_count": 8,
     "metadata": {},
     "output_type": "execute_result"
    }
   ],
   "source": [
    "content_list"
   ]
  },
  {
   "cell_type": "code",
   "execution_count": 9,
   "metadata": {},
   "outputs": [
    {
     "data": {
      "text/plain": [
       "{}"
      ]
     },
     "execution_count": 9,
     "metadata": {},
     "output_type": "execute_result"
    }
   ],
   "source": [
    "content2vec=dict()\n",
    "\n",
    "#convert the document to sentence vectors\n",
    "\n",
    "for key, sentences in content_list.items():\n",
    "    content2vec[key]=[]\n",
    "    for sentence in sentences:\n",
    "        if len(sentence)>0:\n",
    "            centroid=np.zeros((100,))\n",
    "            sentence=sentence.split()\n",
    "            for word in sentence:\n",
    "                try:\n",
    "                    centroid+=model[word]\n",
    "                except:\n",
    "                    pass\n",
    "            centroid/=len(sentence)\n",
    "            content2vec[key].append(centroid)\n",
    "\n",
    "content2vec"
   ]
  },
  {
   "cell_type": "code",
   "execution_count": 10,
   "metadata": {},
   "outputs": [
    {
     "name": "stderr",
     "output_type": "stream",
     "text": [
      "<ipython-input-10-dbae9484537f>:12: DeprecationWarning: Call to deprecated `__getitem__` (Method will be removed in 4.0.0, use self.wv.__getitem__() instead).\n",
      "  query_vec+=model[word]\n"
     ]
    }
   ],
   "source": [
    "query=\"Batman sucks!\"\n",
    "#preprocess the query\n",
    "query=re.sub('[^A-Za-z]+', ' ', query)\n",
    "query=query.lower()\n",
    "\n",
    "\n",
    "#calculate the query vector\n",
    "query_vec=np.zeros((100,))\n",
    "\n",
    "for word in query.split():\n",
    "    try:\n",
    "        query_vec+=model[word]\n",
    "    except:\n",
    "        pass\n",
    "query_vec/=len(query)"
   ]
  },
  {
   "cell_type": "code",
   "execution_count": 11,
   "metadata": {},
   "outputs": [
    {
     "data": {
      "text/plain": [
       "{}"
      ]
     },
     "execution_count": 11,
     "metadata": {},
     "output_type": "execute_result"
    }
   ],
   "source": [
    "result_list=dict()\n",
    "\n",
    "for key, vectors in content2vec.items():\n",
    "    result_list[key]=0\n",
    "    for vector in vectors:\n",
    "        cos_sim = np.dot(vector, query_vec)/(np.linalg.norm(vector)*np.linalg.norm(query_vec))\n",
    "        result_list[key]+=abs(cos_sim)\n",
    "            \n",
    "result_list"
   ]
  },
  {
   "cell_type": "code",
   "execution_count": null,
   "metadata": {},
   "outputs": [],
   "source": []
  }
 ],
 "metadata": {
  "kernelspec": {
   "display_name": "Python 3",
   "language": "python",
   "name": "python3"
  },
  "language_info": {
   "codemirror_mode": {
    "name": "ipython",
    "version": 3
   },
   "file_extension": ".py",
   "mimetype": "text/x-python",
   "name": "python",
   "nbconvert_exporter": "python",
   "pygments_lexer": "ipython3",
   "version": "3.8.2"
  }
 },
 "nbformat": 4,
 "nbformat_minor": 4
}
