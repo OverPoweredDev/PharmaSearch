{
 "cells": [
  {
   "cell_type": "code",
   "execution_count": 1,
   "metadata": {},
   "outputs": [],
   "source": [
    "import gensim.downloader as api\n",
    "from gensim.models import Word2Vec"
   ]
  },
  {
   "cell_type": "code",
   "execution_count": 2,
   "metadata": {},
   "outputs": [],
   "source": [
    "#Get common text corpus and train a gensim model on that\n",
    "dataset = api.load(\"text8\")\n",
    "model = Word2Vec(dataset)"
   ]
  },
  {
   "cell_type": "code",
   "execution_count": 1,
   "metadata": {},
   "outputs": [],
   "source": [
    "import glob\n",
    "import os\n",
    "import re"
   ]
  },
  {
   "cell_type": "code",
   "execution_count": 3,
   "metadata": {},
   "outputs": [
    {
     "name": "stdout",
     "output_type": "stream",
     "text": [
      "['data\\\\Batman.txt', 'data\\\\Country.txt', 'data\\\\Horse.txt', 'data\\\\India.txt', 'data\\\\Land.txt', 'data\\\\Movie.txt', 'data\\\\Pig.txt', 'data\\\\White-necked laughingthrush.txt']\n"
     ]
    }
   ],
   "source": [
    "working_dir = \"data/\"\n",
    "\n",
    "def filebrowser(curr_dir):\n",
    "    \"Returns files with an extension\"\n",
    "    return [f for f in glob.glob(curr_dir + \"*.txt\")]\n",
    "\n",
    "file_list = filebrowser(working_dir)\n",
    "print(file_list)"
   ]
  },
  {
   "cell_type": "code",
   "execution_count": null,
   "metadata": {},
   "outputs": [],
   "source": []
  }
 ],
 "metadata": {
  "kernelspec": {
   "display_name": "Python 3",
   "language": "python",
   "name": "python3"
  },
  "language_info": {
   "codemirror_mode": {
    "name": "ipython",
    "version": 3
   },
   "file_extension": ".py",
   "mimetype": "text/x-python",
   "name": "python",
   "nbconvert_exporter": "python",
   "pygments_lexer": "ipython3",
   "version": "3.7.4"
  }
 },
 "nbformat": 4,
 "nbformat_minor": 4
}
