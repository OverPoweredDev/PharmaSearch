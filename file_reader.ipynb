{
 "cells": [
  {
   "cell_type": "code",
   "execution_count": null,
   "metadata": {},
   "outputs": [],
   "source": [
    "import os\n",
    "import json\n",
    "\n",
    "\n",
    "class Document:\n",
    "    def __init__(self, filepath):\n",
    "        # init file attributes\n",
    "        self.filepath = filepath\n",
    "        self.extension = os.path.splitext(filepath)[-1]\n",
    "        self.title = os.path.basename(filepath)\n",
    "\n",
    "        # init empty headings\n",
    "        self.document = {'abstract': '', 'keywords': '', 'main': '', 'conclusion': '', 'acknowledgements': '', 'references': '', 'end': 0}\n",
    "\n",
    "        # read file\n",
    "        self.read()\n",
    "\n",
    "    def read(self):\n",
    "        # json file\n",
    "        if self.extension == '.json':\n",
    "            self.read_json(self.filepath)\n",
    "            \n",
    "        # txt file\n",
    "        elif self.extension == '.txt':\n",
    "            self.read_txt(self.filepath)\n",
    "            \n",
    "        # user's a lunatic\n",
    "        else:\n",
    "            print(\"Unsupported file format\")\n",
    "\n",
    "    def read_txt(self, filepath):\n",
    "        contents = ''\n",
    "        with open(filepath, 'r') as f:\n",
    "            for line in f.readlines():\n",
    "                line = line.lower()\n",
    "                \n",
    "                # new heading\n",
    "                if line in self.document.keys():\n",
    "                    self.document[curr_heading] = contents\n",
    "                    curr_heading = line\n",
    "\n",
    "                # same heading as before\n",
    "                else:\n",
    "                    line = line.replace('\\n', ' ')\n",
    "                    contents += ''.join(e for e in line if (e.isalnum() or e == ' '))\n",
    "\n",
    "    def read_json(self, filepath):\n",
    "        self.document = json.load(filepath)\n",
    "\n",
    "    def save_json(self, directory):\n",
    "        with open(self.title + '.json', \"w+\") as outfile:\n",
    "            json.dump(self.document, outfile)"
   ]
  }
 ],
 "metadata": {
  "kernelspec": {
   "display_name": "Python 3",
   "language": "python",
   "name": "python3"
  },
  "language_info": {
   "codemirror_mode": {
    "name": "ipython",
    "version": 3
   },
   "file_extension": ".py",
   "mimetype": "text/x-python",
   "name": "python",
   "nbconvert_exporter": "python",
   "pygments_lexer": "ipython3",
   "version": "3.8.2"
  }
 },
 "nbformat": 4,
 "nbformat_minor": 4
}
