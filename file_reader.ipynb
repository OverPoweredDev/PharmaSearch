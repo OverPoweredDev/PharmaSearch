{
 "cells": [
  {
   "cell_type": "code",
   "execution_count": 7,
   "metadata": {},
   "outputs": [],
   "source": [
    "from utility.respaper import Document"
   ]
  },
  {
   "cell_type": "code",
   "execution_count": 8,
   "metadata": {},
   "outputs": [],
   "source": [
    "doc = Document('search_list_txt/Molecular_immune_pathogenesis_and_diagnosis_of_COVID-19.txt')"
   ]
  },
  {
   "cell_type": "code",
   "execution_count": 9,
   "metadata": {},
   "outputs": [
    {
     "data": {
      "text/plain": [
       "'Molecular_immune_pathogenesis_and_diagnosis_of_COVID-19'"
      ]
     },
     "execution_count": 9,
     "metadata": {},
     "output_type": "execute_result"
    }
   ],
   "source": [
    "doc.title"
   ]
  },
  {
   "cell_type": "code",
   "execution_count": 10,
   "metadata": {},
   "outputs": [
    {
     "data": {
      "text/plain": [
       "dict_keys(['start', 'abstract', 'keywords', 'introduction', 'main', 'conclusion', 'acknowledgements', 'references', 'end'])"
      ]
     },
     "execution_count": 10,
     "metadata": {},
     "output_type": "execute_result"
    }
   ],
   "source": [
    "doc.document.keys()"
   ]
  },
  {
   "cell_type": "code",
   "execution_count": 11,
   "metadata": {},
   "outputs": [
    {
     "data": {
      "text/plain": [
       "['coronavirus disease 2019 covid19 is a kind of viral pneumonia which is caused by severe acuterespiratory syndrome coronavirus 2 sarscov2',\n",
       " ' the emergence of sarscov2 has been marked asthe third introduction of a highly pathogenic coronavirus into the human population after the severeacute respiratory syndrome coronavirus sarscov and the middle east respiratory syndrome coronavirus merscov in the twentyﬁrst century',\n",
       " ' in this minireview we provide a brief introduction of thegeneral features of sarscov2 and discuss current knowledge of molecular immune pathogenesisdiagnosis and treatment of covid19 on the base of the present understanding of sarscov and merscov infections which may be helpful in offering novel insights and potential therapeutic targets forcombating the sarscov2 infection',\n",
       " '']"
      ]
     },
     "execution_count": 11,
     "metadata": {},
     "output_type": "execute_result"
    }
   ],
   "source": [
    "doc.split_sentences('abstract')"
   ]
  },
  {
   "cell_type": "code",
   "execution_count": 12,
   "metadata": {},
   "outputs": [
    {
     "data": {
      "text/plain": [
       "['mostlikely',\n",
       " 'recommends the',\n",
       " 'drug against a wide array of',\n",
       " 'detection but there is still noproduct or published',\n",
       " '2010 119e128 httpsdoi.org10.1016j.pharmthera.2010.06.003.24 j. liu']"
      ]
     },
     "execution_count": 12,
     "metadata": {},
     "output_type": "execute_result"
    }
   ],
   "source": [
    "doc.generate_queries(5)"
   ]
  },
  {
   "cell_type": "code",
   "execution_count": null,
   "metadata": {},
   "outputs": [],
   "source": []
  }
 ],
 "metadata": {
  "kernelspec": {
   "display_name": "Python 3",
   "language": "python",
   "name": "python3"
  },
  "language_info": {
   "codemirror_mode": {
    "name": "ipython",
    "version": 3
   },
   "file_extension": ".py",
   "mimetype": "text/x-python",
   "name": "python",
   "nbconvert_exporter": "python",
   "pygments_lexer": "ipython3",
   "version": "3.8.2"
  }
 },
 "nbformat": 4,
 "nbformat_minor": 4
}
