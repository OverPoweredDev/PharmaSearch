{
 "cells": [
  {
   "cell_type": "code",
   "execution_count": 1,
   "metadata": {},
   "outputs": [],
   "source": [
    "from utility.respaper import Document, Corpus\n",
    "from pprint import pprint"
   ]
  },
  {
   "cell_type": "code",
   "execution_count": 2,
   "metadata": {},
   "outputs": [],
   "source": [
    "corp = Corpus('search_list_txt/')"
   ]
  },
  {
   "cell_type": "code",
   "execution_count": 123,
   "metadata": {},
   "outputs": [
    {
     "name": "stdout",
     "output_type": "stream",
     "text": [
      "issue in document:  Recent Advances And Perspectives Of Nucleic Acid\n",
      "issue in document:  Recent Advances And Perspectives Of Nucleic Acid\n",
      "issue in document:  Pegylation In Anti Cancer Therapy\n",
      "issue in document:  Development Of Muco Adhesive Orally Disintegrating Tablets Containing Tamarind Gum Coated Tea Powder\n",
      "issue in document:  Recent Advances And Perspectives Of Nucleic Acid\n",
      "issue in document:  Hollow Fiber Based Liquid Phase Microextraction Followed B 2020 Journal Of P\n",
      "issue in document:  Hollow Fiber Based Liquid Phase Microextraction Followed B 2020 Journal Of P\n",
      "issue in document:  Real Time Calorimetric Characterisation Of Clay Drug Complex Dispersions And Particles\n",
      "issue in document:  Deamidation In Moxetumomab Pasudotox Leading To Conformational Change And Immunotoxin Activity Loss\n",
      "issue in document:  Hollow Fiber Based Liquid Phase Microextraction Followed B 2020 Journal Of P\n",
      "issue in document:  Redox Responsive Biocompatible Nanocarriers\n",
      "issue in document:  Real Time Calorimetric Characterisation Of Clay Drug Complex Dispersions And Particles\n",
      "issue in document:  Redox Responsive Biocompatible Nanocarriers\n",
      "issue in document:  Molecular Pharmaceuticals\n",
      "issue in document:  Real Time Calorimetric Characterisation Of Clay Drug Complex Dispersions And Particles\n",
      "issue in document:  Redox Responsive Biocompatible Nanocarriers\n",
      "issue in document:  Development Of Muco Adhesive Orally Disintegrating Tablets Containing Tamarind Gum Coated Tea Powder\n",
      "issue in document:  Development Of Muco Adhesive Orally Disintegrating Tablets Containing Tamarind Gum Coated Tea Powder\n",
      "issue in document:  Pegylation In Anti Cancer Therapy\n",
      "issue in document:  Molecular Pharmaceuticals\n",
      "issue in document:  Redox Responsive Biocompatible Nanocarriers\n",
      "issue in document:  Development Of Muco Adhesive Orally Disintegrating Tablets Containing Tamarind Gum Coated Tea Powder\n",
      "issue in document:  Pegylation In Anti Cancer Therapy\n",
      "issue in document:  Real Time Calorimetric Characterisation Of Clay Drug Complex Dispersions And Particles\n",
      "issue in document:  Real Time Calorimetric Characterisation Of Clay Drug Complex Dispersions And Particles\n",
      "issue in document:  Development Of Muco Adhesive Orally Disintegrating Tablets Containing Tamarind Gum Coated Tea Powder\n",
      "issue in document:  Hollow Fiber Based Liquid Phase Microextraction Followed B 2020 Journal Of P\n",
      "issue in document:  Redox Responsive Biocompatible Nanocarriers\n",
      "issue in document:  Redox Responsive Biocompatible Nanocarriers\n",
      "issue in document:  Recent Advances And Perspectives Of Nucleic Acid\n",
      "issue in document:  Deamidation In Moxetumomab Pasudotox Leading To Conformational Change And Immunotoxin Activity Loss\n",
      "issue in document:  Redox Responsive Biocompatible Nanocarriers\n",
      "issue in document:  Redox Responsive Biocompatible Nanocarriers\n",
      "issue in document:  Development Of Muco Adhesive Orally Disintegrating Tablets Containing Tamarind Gum Coated Tea Powder\n",
      "issue in document:  Hollow Fiber Based Liquid Phase Microextraction Followed B 2020 Journal Of P\n"
     ]
    },
    {
     "data": {
      "text/plain": [
       "{'A Comprehensive Review Article On Isoprostanes As Biological Markers': ['components related with oxidative anxiety and the estimationof'],\n",
       " 'Asymptomatic Carrier State  Acute Respiratory Disease': ['more than 2000 deaths'],\n",
       " 'Regorafenib Loaded Poly  Lactide Co Glycolide  Microspheres': ['evokesan angiogenic'],\n",
       " 'Recent Advances And Perspectives Of Nucleic Acid': [],\n",
       " 'Molecular Immune Pathogenesis And Diagnosis Of Covid 19': ['features of sarscov2'],\n",
       " 'Pegylation In Anti Cancer Therapy': [],\n",
       " 'Anti Toxoplasma Gondii Activity Of 5 Oxo Hexahydroquinoline Derivatives   Synthesis, In Vitro And In Vivo Evaluations, And Molecular Docking Analysis': ['were well accommodated within the binding site. thereforeit'],\n",
       " 'Redox Sensitive  Peg Shielded Carboxymethyl Pei': ['tnbs potentiometric titration'],\n",
       " 'Development Of Muco Adhesive Orally Disintegrating Tablets Containing Tamarind Gum Coated Tea Powder': [],\n",
       " 'Hollow Fiber Based Liquid Phase Microextraction Followed B 2020 Journal Of P': [],\n",
       " 'Pharmaceutical Care In A Patient With Recurrent Infection After Liver Transplant': ['be necessary to prevent infection for thepatients after'],\n",
       " 'Real Time Calorimetric Characterisation Of Clay Drug Complex Dispersions And Particles': [],\n",
       " 'Assembling Structurally Customizable Synthetic Carriers': ['a selfassembled triblock copolymer envelop may be constructed using dendrimers'],\n",
       " 'Deamidation In Moxetumomab Pasudotox Leading To Conformational Change And Immunotoxin Activity Loss': [],\n",
       " 'The Effect Of Pramlintide, An Antidiabetic Amylin Analogue On Angiogenesis Related Markers In Vitro': ['this research revealed the'],\n",
       " 'Covid-19: Pathogenesis, Cytokine Storm And Cytokine Growth Factor Reviews': ['has shown a strong upregulation of cytokine and interferon'],\n",
       " 'Phospolipids And Application': ['as important pharmaceutical'],\n",
       " 'Redox Responsive Biocompatible Nanocarriers': [],\n",
       " 'Molecular Pharmaceuticals': [],\n",
       " 'Phytochemical Screening And Evaluation Of Analgesic And Thrombolytic Activity Of The Crude Methanoli': ['examined by the'],\n",
       " 'Pharmacological Options Beyond Proton Pump Inhibitors In Childrenwith Gastroesophageal Reflux Diseas': ['reflux'],\n",
       " 'Multi Dimensional Visualization For The Morphology Of 2020 Asian Journal Of ': ['the morphology and spaaccepted 10 january 2019tial distribution']}"
      ]
     },
     "execution_count": 123,
     "metadata": {},
     "output_type": "execute_result"
    }
   ],
   "source": [
    "corp.generate_queries('abstract',100,1)"
   ]
  },
  {
   "cell_type": "code",
   "execution_count": null,
   "metadata": {},
   "outputs": [],
   "source": [
    "corp.split_sentences()"
   ]
  },
  {
   "cell_type": "code",
   "execution_count": null,
   "metadata": {},
   "outputs": [],
   "source": []
  },
  {
   "cell_type": "code",
   "execution_count": null,
   "metadata": {},
   "outputs": [],
   "source": [
    "doc = Document('search_list_txt/Molecular_immune_pathogenesis_and_diagnosis_of_COVID-19.txt')"
   ]
  },
  {
   "cell_type": "code",
   "execution_count": null,
   "metadata": {},
   "outputs": [],
   "source": [
    "doc.title"
   ]
  },
  {
   "cell_type": "code",
   "execution_count": null,
   "metadata": {},
   "outputs": [],
   "source": [
    "doc.document.keys()"
   ]
  },
  {
   "cell_type": "code",
   "execution_count": null,
   "metadata": {},
   "outputs": [],
   "source": [
    "doc.split_sentences('abstract')"
   ]
  },
  {
   "cell_type": "code",
   "execution_count": null,
   "metadata": {},
   "outputs": [],
   "source": [
    "doc.generate_queries(5)"
   ]
  },
  {
   "cell_type": "code",
   "execution_count": null,
   "metadata": {},
   "outputs": [],
   "source": []
  }
 ],
 "metadata": {
  "kernelspec": {
   "display_name": "Python 3",
   "language": "python",
   "name": "python3"
  },
  "language_info": {
   "codemirror_mode": {
    "name": "ipython",
    "version": 3
   },
   "file_extension": ".py",
   "mimetype": "text/x-python",
   "name": "python",
   "nbconvert_exporter": "python",
   "pygments_lexer": "ipython3",
   "version": "3.8.2"
  }
 },
 "nbformat": 4,
 "nbformat_minor": 4
}
