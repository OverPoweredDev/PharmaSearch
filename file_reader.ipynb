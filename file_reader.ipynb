{
 "cells": [
  {
   "cell_type": "code",
   "execution_count": 1,
   "metadata": {},
   "outputs": [],
   "source": [
    "from utility.respaper import Document, Corpus\n",
    "from pprint import pprint"
   ]
  },
  {
   "cell_type": "code",
   "execution_count": 2,
   "metadata": {},
   "outputs": [],
   "source": [
    "corp = Corpus('search_list_txt/')"
   ]
  },
  {
   "cell_type": "code",
   "execution_count": 30,
   "metadata": {},
   "outputs": [
    {
     "name": "stdout",
     "output_type": "stream",
     "text": [
      "random fucked up cause documents arent formatted\n",
      "random fucked up cause documents arent formatted\n",
      "random fucked up cause documents arent formatted\n"
     ]
    },
    {
     "data": {
      "text/plain": [
       "{'Phytochemical Screening And Evaluation Of Analgesic And Thrombolytic Activity Of The Crude Methanoli': [],\n",
       " 'A Comprehensive Review Article On Isoprostanes As Biological Markers': ['neurol sci 274 4853.24. halliwell b lee'],\n",
       " 'Covid 19  Pathogenesis  Cytokine Storm And Therape 2020 Cytokine   Growth Fa': ['to this article can be found'],\n",
       " 'Multi Dimensional Visualization For The Morphology Of 2020 Asian Journal Of ': ['distribution of sa particles in tablet prepared'],\n",
       " 'Pharmacological Options Beyond Proton Pump Inhibitors In Childrenwith Gastroesophageal Reflux Diseas': ['in infants and children because ofthe limited evidence'],\n",
       " 'Molecular Pharmaceuticals': [],\n",
       " 'Molecular Immune Pathogenesis And Diagnosis Of Covid 19': ['acute viral infections the antibodyproﬁle against sarscov virus']}"
      ]
     },
     "execution_count": 30,
     "metadata": {},
     "output_type": "execute_result"
    }
   ],
   "source": [
    "corp.generate_queries()\n"
   ]
  },
  {
   "cell_type": "code",
   "execution_count": null,
   "metadata": {},
   "outputs": [],
   "source": [
    "corp.split_sentences()"
   ]
  },
  {
   "cell_type": "code",
   "execution_count": null,
   "metadata": {},
   "outputs": [],
   "source": []
  },
  {
   "cell_type": "code",
   "execution_count": null,
   "metadata": {},
   "outputs": [],
   "source": [
    "doc = Document('search_list_txt/Molecular_immune_pathogenesis_and_diagnosis_of_COVID-19.txt')"
   ]
  },
  {
   "cell_type": "code",
   "execution_count": null,
   "metadata": {},
   "outputs": [],
   "source": [
    "doc.title"
   ]
  },
  {
   "cell_type": "code",
   "execution_count": null,
   "metadata": {},
   "outputs": [],
   "source": [
    "doc.document.keys()"
   ]
  },
  {
   "cell_type": "code",
   "execution_count": null,
   "metadata": {},
   "outputs": [],
   "source": [
    "doc.split_sentences('abstract')"
   ]
  },
  {
   "cell_type": "code",
   "execution_count": null,
   "metadata": {},
   "outputs": [],
   "source": [
    "doc.generate_queries(5)"
   ]
  },
  {
   "cell_type": "code",
   "execution_count": null,
   "metadata": {},
   "outputs": [],
   "source": []
  }
 ],
 "metadata": {
  "kernelspec": {
   "display_name": "Python 3",
   "language": "python",
   "name": "python3"
  },
  "language_info": {
   "codemirror_mode": {
    "name": "ipython",
    "version": 3
   },
   "file_extension": ".py",
   "mimetype": "text/x-python",
   "name": "python",
   "nbconvert_exporter": "python",
   "pygments_lexer": "ipython3",
   "version": "3.8.2"
  }
 },
 "nbformat": 4,
 "nbformat_minor": 4
}
