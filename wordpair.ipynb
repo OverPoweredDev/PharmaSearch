{
 "cells": [
  {
   "cell_type": "code",
   "execution_count": 1,
   "metadata": {},
   "outputs": [],
   "source": [
    "# numpy imports\n",
    "import numpy as np\n",
    "from numpy import dot\n",
    "from numpy.linalg import norm\n",
    "\n",
    "from gensim.models import Word2Vec\n",
    "from gensim.test.utils import common_texts, get_tmpfile\n",
    "import gensim.downloader as api"
   ]
  },
  {
   "cell_type": "code",
   "execution_count": 2,
   "metadata": {},
   "outputs": [],
   "source": [
    "model = api.load(\"glove-twitter-50\")"
   ]
  },
  {
   "cell_type": "code",
   "execution_count": 22,
   "metadata": {},
   "outputs": [],
   "source": [
    "def get_vectors(word1, word2):\n",
    "    try:\n",
    "        vec1 = model[word1]/norm(model[word1])\n",
    "    except:\n",
    "        print('Word1 is not present in the model')\n",
    "        \n",
    "    try:\n",
    "        vec2 = model[word2]/norm(model[word2])\n",
    "    except:\n",
    "        print('Word2 is not present in the model')\n",
    "        \n",
    "    return vec1, vec2"
   ]
  },
  {
   "cell_type": "code",
   "execution_count": 23,
   "metadata": {},
   "outputs": [],
   "source": [
    "def cosine_similarity(word1, word2):\n",
    "    try:\n",
    "        v1, v2 = get_vectors(word1, word2)\n",
    "    except:\n",
    "        return\n",
    "    cos_sim = dot(v1, v2)/(norm(v1)*norm(v2))\n",
    "    return cos_sim"
   ]
  },
  {
   "cell_type": "code",
   "execution_count": 38,
   "metadata": {},
   "outputs": [],
   "source": [
    "def euclidean_distance(word1, word2):\n",
    "    try:\n",
    "        v1, v2 = get_vectors(word1, word2)\n",
    "    except:\n",
    "        return\n",
    "    dist = norm(v1 - v2)\n",
    "    return dist"
   ]
  },
  {
   "cell_type": "code",
   "execution_count": 44,
   "metadata": {
    "scrolled": true
   },
   "outputs": [
    {
     "name": "stdout",
     "output_type": "stream",
     "text": [
      "1.0000001\n",
      "0.5\n"
     ]
    }
   ],
   "source": [
    "word1 = 'ass'\n",
    "word2 = 'ass'\n",
    "\n",
    "print(cosine_similarity(word1, word2))\n",
    "print(euclidean_distance(word1, word2))"
   ]
  },
  {
   "cell_type": "markdown",
   "metadata": {},
   "source": [
    "word1     word2     Cosine       Euclidean\n",
    "\n",
    "War       Spear     0.24926732   0.25380212\n",
    "Cat       Dog       0.9429585    0.06486539"
   ]
  },
  {
   "cell_type": "code",
   "execution_count": null,
   "metadata": {},
   "outputs": [],
   "source": []
  }
 ],
 "metadata": {
  "kernelspec": {
   "display_name": "Python 3",
   "language": "python",
   "name": "python3"
  },
  "language_info": {
   "codemirror_mode": {
    "name": "ipython",
    "version": 3
   },
   "file_extension": ".py",
   "mimetype": "text/x-python",
   "name": "python",
   "nbconvert_exporter": "python",
   "pygments_lexer": "ipython3",
   "version": "3.8.5"
  }
 },
 "nbformat": 4,
 "nbformat_minor": 4
}
