{
 "cells": [
  {
   "cell_type": "markdown",
   "metadata": {},
   "source": [
    "# Cosine Similarity | Abstracts | Pretrained Model"
   ]
  },
  {
   "cell_type": "markdown",
   "metadata": {},
   "source": [
    " ⠀"
   ]
  },
  {
   "cell_type": "markdown",
   "metadata": {},
   "source": [
    " ⠀"
   ]
  },
  {
   "cell_type": "markdown",
   "metadata": {},
   "source": [
    "# Loading Abstracts from File"
   ]
  },
  {
   "cell_type": "markdown",
   "metadata": {},
   "source": [
    "### Import Required Libraries"
   ]
  },
  {
   "cell_type": "code",
   "execution_count": 1,
   "metadata": {},
   "outputs": [],
   "source": [
    "from utility import Corpus, Document, SearchEngine, Evaluator"
   ]
  },
  {
   "cell_type": "code",
   "execution_count": 2,
   "metadata": {},
   "outputs": [
    {
     "name": "stdout",
     "output_type": "stream",
     "text": [
      "search_list_txt/Regorafenib Loaded Poly  Lactide Co Glycolide  Microspheres.txt\n",
      "search_list_txt/Asymptomatic Carrier State  Acute Respiratory Disease.txt\n",
      "search_list_txt/Phospolipids And Application.txt\n",
      "search_list_txt/Deamidation In Moxetumomab Pasudotox Leading To Conformational Change And Immunotoxin Activity Loss.txt\n",
      "search_list_txt/Assembling Structurally Customizable Synthetic Carriers.txt\n",
      "search_list_txt/Molecular Immune Pathogenesis And Diagnosis Of Covid 19.txt\n",
      "search_list_txt/Redox Sensitive  Peg Shielded Carboxymethyl Pei.txt\n",
      "search_list_txt/Development Of Muco Adhesive Orally Disintegrating Tablets Containing Tamarind Gum Coated Tea Powder.txt\n",
      "search_list_txt/Anti Toxoplasma Gondii Activity Of 5 Oxo Hexahydroquinoline Derivatives   Synthesis, In Vitro And In Vivo Evaluations, And Molecular Docking Analysis.txt\n",
      "search_list_txt/The Effect Of Pramlintide, An Antidiabetic Amylin Analogue On Angiogenesis Related Markers In Vitro.txt\n",
      "search_list_txt/Pharmaceutical Care In A Patient With Recurrent Infection After Liver Transplant.txt\n",
      "search_list_txt/Nanotechnology And Vaccine Development.txt\n",
      "search_list_txt/Hollow Fiber Based Liquid Phase Microextraction.txt\n",
      "search_list_txt/Pharmacological Options Beyond Proton Pump Inhibitors In Childrenwith Gastroesophageal Reflux Diseas.txt\n",
      "search_list_txt/Pegylation In Anti Cancer Therapy.txt\n",
      "search_list_txt/Phytochemical Screening And Evaluation Of Analgesic And Thrombolytic Activity Of The Crude Methanoli.txt\n",
      "search_list_txt/Multi Dimensional Visualization For The Morphology.txt\n",
      "search_list_txt/Redox Responsive Biocompatible Nanocarriers.txt\n",
      "search_list_txt/Recent Advances And Perspectives Of Nucleic Acid.txt\n",
      "search_list_txt/A Comprehensive Review Article On Isoprostanes As Biological Markers.txt\n",
      "search_list_txt/Molecular Pharmaceuticals.txt\n",
      "search_list_txt/Real Time Calorimetric Characterisation Of Clay Drug Complex Dispersions And Particles.txt\n"
     ]
    }
   ],
   "source": [
    "corp = Corpus('search_list_txt/')\n",
    "\n",
    "abstracts = corp.split_sections('abstract')"
   ]
  },
  {
   "cell_type": "code",
   "execution_count": 3,
   "metadata": {},
   "outputs": [
    {
     "data": {
      "text/plain": [
       "{'Regorafenib Loaded Poly  Lactide Co Glycolide  Microspheres': 'transarterial chemoembolization tace has been widely introduced to treat hepatocellularcarcinoma hcc especially for unresectable patients for decades. however tace evokesan angiogenic response due to the secretion of vascular endothelial growth factor vegfresulting in the formation of new blood vessels and eventually tumor recurrence. thus weaimed to develop regorafenib regoloaded poly lactidecoglycolide plga microspheresthat enabled localized and sustained drug delivery to limit proangiogenic responses',\n",
       " 'Asymptomatic Carrier State  Acute Respiratory Disease': 'since the emergence of coronavirus disease 2019 covid19 formerly known as the 2019 novel coronavirus 2019ncov in wuhan china in december 2019 which is caused by severe acute respiratory syndrome coronavirus 2 sarscov2 more than 75000 cases have been reported in 32 countriesregions resulting in more than 2000 deaths worldwide. despite the fact that most covid19 cases and mortalities were reported in china the who has declared this outbreak as the sixth public health emergency of international concern. the covid19 can present as an asymptomatic carrier state acute respiratory disease and pneumonia. adults represent the population with the highest infection rate however neonates children and elderly patients can also be infected by sarscov2. in addition nosocomial infection of hospitalized patients and healthcare workers and viral transmission from asymptomatic carriers are possible. the most common finding on chest imaging among patients with pneumonia was groundglass opacity with bilateral involvement. severe cases are more likely to be older patients with underlying comorbidities compared to mild cases. indeed age and disease severity may be correlated with the outcomes of covid19. to date effective treatment is lacking however clinical trials investigating the efficacy of several agents including remdesivir and chloroquine are underway in china. currently effective infection control intervention is the only way to prevent the spread of sarscov2.',\n",
       " 'Phospolipids And Application': 'article historyphospholipids have the characteristics of excellent biocompatibility and a especialreceived 27 june 2014amphiphilicity. these unique properties make phospholipids most appropriate to bereceived in revised formemployed as important pharmaceutical excipients and they have a very wide range of29 august 2014applications in drug delivery systems. the aim of this review is to summarize phosphoaccepted 10 september 2014lipids and some of their related applications in drug delivery systems and highlight theavailable online 28 september 2014relationship between the properties and applications and the effect of the species ofphospholipids on the efficiency of drug delivery. we refer to some relevant literatureskeywordsstarting from the structures main sources and properties of phospholipids to introducephospholipidstheir applications in drug delivery systems. the present article focuses on introducing fivebiocompatibilitytypes of carriers based on phospholipids including liposomes intravenous lipid emulamphiphilicitysions micelles drugphospholipids complexes and cochleates.drug delivery systems 2015 shenyang pharmaceutical university. production and hosting by elsevier b.v. allrights reserved.1.',\n",
       " 'Deamidation In Moxetumomab Pasudotox Leading To Conformational Change And Immunotoxin Activity Loss': 'article historyreceived 16 february 2020revised 14 may 2020accepted 1 june 2020available online 11 june 2020asparagine asn deamidation is a common posttranslational modiﬁcation in which asn is converted toaspartic acid or isoaspartic acid. by introducing a negative charge deamidation could potentially impactthe binding interface and biological activities of protein therapeutics. we identiﬁed a deamidationvariant in moxetumomab pasudotox an immunotoxin fv fusion protein drug derived from a 38kdatruncated pseudomonas exotoxin a pe38 for the treatment of hairycell leukemia. although the deamidation site asn358 was outside of the binding interface the modiﬁcation had a signiﬁcant impact onthe biological activity of moxetumomab pasudotox. surprisingly the variant eluted earlier than its unmodiﬁed form on anion exchange chromatography which often leads to the conclusion that it has ahigher positive charge. here we describe the characterization of the deamidation variant with differentialscanning calorimetry and hydrogendeuterium exchange mass spectrometry which revealed that theasn358 deamidation caused the conformational changes in the catalytic domain of the pe38 region.these results provide an explanation for why the deamidation affected the biological activity of moxetumomab pasudotox and suggest the approach that can be used for process control to ensure productquality and process consistency. 2020 the authors. published by elsevier inc. on behalf of the american pharmacists association. thisis an open access article under the cc byncnd license httpcreativecommons.orglicensesbyncnd4.0.keywordsproteins structureprotein conformationprotein stabilityprotein foldingposttranslational modiﬁcationmass spectrometrycalorimetrymodelingdeamidationbiological activityhydrogendeuterium exchange',\n",
       " 'Assembling Structurally Customizable Synthetic Carriers': 'this study demonstrates that our previously reported polywraplex a synthetic sirna carrier consisting of a unimolecular polyplex core of customizable size and a selfassembled triblock copolymer envelop may be constructed using dendrimers as the crosslinking junctions. replacing the branched low molecular weight pei with polyamidoamine pamam dendrimer in the zeta potential regulated polymerization resulted in the similar network structured cationic polymer with electron microscopically visible crosslinking',\n",
       " 'Molecular Immune Pathogenesis And Diagnosis Of Covid 19': 'coronavirus disease 2019 covid19 is a kind of viral pneumonia which is caused by severe acuterespiratory syndrome coronavirus 2 sarscov2. the emergence of sarscov2 has been marked asthe third introduction of a highly pathogenic coronavirus into the human population after the severeacute respiratory syndrome coronavirus sarscov and the middle east respiratory syndrome coronavirus merscov in the twentyﬁrst century. in this minireview we provide a brief introduction of thegeneral features of sarscov2 and discuss current knowledge of molecular immune pathogenesisdiagnosis and treatment of covid19 on the base of the present understanding of sarscov and merscov infections which may be helpful in offering novel insights and potential therapeutic targets forcombating the sarscov2 infection.',\n",
       " 'Redox Sensitive  Peg Shielded Carboxymethyl Pei': 'a series of branched polyethylenimine pei modifications including pegylation peg2kpeifor steric shielding redoxsensitive crosslinking for synthesis peg2kpeiss nanogels andsubsequent carboxymethylation peg2kcmpeiss for modulation of the polymer pka havebeen introduced for cellular delivery of antimir21. the synthesis was characterized using 1 h nmr ftir tnbs potentiometric titration particle size and ζ potential. loading ofantimir21 at various np ratios was investigated by gel retardation ethidium bromide dye',\n",
       " 'Development Of Muco Adhesive Orally Disintegrating Tablets Containing Tamarind Gum Coated Tea Powder': 'keywordsoral careorally disintegrating tablettea powdermicrowaveadhesive propertytamarind gumthe aim of this study was to design and evaluate mucoadhesive orally disintegrating tablets manufactured bymicrowave irradiation and containing polysaccharide. we prepared orally disintegrating tea tablets odttscontaining a 1 ww mass fraction of one of ﬁve polysaccharides gum arabic carrageenan guar gum tamarindgum or pectin and evaluated the swelling degree tablet hardness friability disintegration time and adhesiveproperties. all tablets had a swelling degree of about 1 mm a hardness of over 13 n and a friability degreeof  1. tablets containing gum arabic and tamarind gum had disintegration times of 30 s or less and satisﬁedrequirements as orally disintegrating tablets. this could be attributed to their high void contents which allowedfor water penetration. the adhesive properties and particle retention ratios were highest in odtts containingtamarind gum which was thought to be caused by the rapid disintegration and high viscosity of the tamarindgum itself. when we investigated changing the mass fraction of tamarind gum we found 1 ww was mostsuitable for rapid disintegration and high adhesiveness. the odtts containing 1 ww tamarind gum showedsigniﬁcant growth inhibition towards streptococcus mutans. therefore microwave irradiation technology andaddition of tamarind gum could be used to manufacture mucoadhesive orally disintegrating tablets for oral care.1. introductionin the modern era the pneumonia death rate has been increasingwith population aging and superaging societies miyashita andyamauchi 2018. over 90 of pneumonia deaths are of older adultsaged 65 years or older and about 70 of older adults suﬀering frompneumonia have aspiration pneumonia teramoto et al. 2008 baineet al. 2001. aspiration pneumonia is caused by bacteria or othercontaminants that enter the trachea because of decreased swallowingfunction i.e. deglutition reﬂex and cough reﬂex manabe et al.2015 which is common in the older adult ebihara et al. 2016 perryet al. 2001 li et al. 2015. therefore it is important to keep the oralcavities of older adults clean to prevent aspiration pneumonia. in addition eﬀective oral care can prevent intraoral diseases e.g. periodontal disease and dental caries and systemic diseases such as anginabrain infarction and diabetes that can be induced by intraoral disease.oral care preparations can improve quality of life for older adultslangmore et al. 1998 teramoto et al. 2015 especially if the preparations are easily handled and can be taken even by bedridden patients.methods used for oral care include tooth brushing mouthwashesand oral care supplements to control plaque derived from bacteria. indental caries some streptococcus mutans s. mutans produce insolubleglucan which various microorganisms adhere to and then generate acidand dissolve the tooth enamel leme et al. 2006 forssten et al. 2010.to prevent dental caries chlorhexidine has been used to decreaseplaque accumulation charles et al. 2004. however some side eﬀectssuch as tooth coloration tartar formation in gingival crevices and tastedisorders have been reported when it is used for more than 2 weeks.consequently it is best avoid longterm use of chlorhexidine wherepossible james et al. 2017. as other candidates polyphenols such astannins catechin quercetin and anthocyanin which are biologicalcomponents of certain plants and very safe have been reported to inhibit the formation of glucosyltransferase and bioﬁlms involved in theabbreviations ecg epicatechin gallate egc epigallocatechin egcg epigallocatechin gallate gcg gallocatechin gallate odts orally disintegrating tabletsodtts orally disintegrating tea tablets sem scanning electron microscopecorresponding author.email address yasuiwaoushizuokaken.ac.jp y. iwao.httpsdoi.org10.1016j.ijpx.2019.100012received 18 december 2018 received in revised form 7 march 2019 accepted 3 april 2019available online 04 april 201925901567  2019 the authors. published by elsevier b.v. this is an open access article under the cc by licensehttpcreativecommons.orglicensesby4.0.international journal of pharmaceutics x 1 2019 100012r. kiniwa et al.odtts we selected thermally stable polysaccharides gum arabiccarrageenan guar gum tamarind gum and pectin. we determined theeﬀects of these polysaccharides on the mucoadhesive properties of thetablets for potential use as oral care preparations.production of insoluble glucan ferrazzano et al. 2009 percival et al.2006 yamanakaokada et al. 2008. polyphenols have not only antibacterial activity but also antioxidant and antiinﬂammatory activitiesalmajano et al. 2008 jalil and ismail 2008 cavet et al. 2011. indiseases in the oral cavity such as dental caries and periodontal diseaseinﬂammation occurs as a host immune response towards bacteria. theuse of polyphenols with antioxidant and antiinﬂammatory activitiescan reduce inﬂammation caused by oral bacteria and keep the inside ofthe mouth clean. tea leaves contain many compounds with antimicrobial antioxidant and antiinﬂammatory activities and are acandidate for preparation of oral care products graham 1992.we recently developed a novel method for facile preparation oforally disintegrating tablets odts by microwave irradiation of wetmolded tablets containing mannitol sugar alcohol a polymeric disintegrant and water absorbent materials sano et al. 2011 sano et al.2013 sano et al. 2014. odts are designed to dissolve in a smallamount of water in the oral cavity to enable patients with dysphagia orrestricted water intake to swallow tablets. they represent one of themost patientfriendly dosage forms wade et al. 2012 pﬁster andghosh 2005. in our methodology the microwave irradiation led to theformation of water vapor which resulted in the expansion of the poresinside the tablets and the formation of new void networks. these newvoid networks allowed for the water to penetrate into the tablet moreeﬃciently and resulted in a decrease in their disintegration time. inaddition the formation of water vapor during the microwave irradiation also led to the dissolutionprecipitation of some of the mannitolparticles which resulted in the formation of new solid bridges. theformation of new solid bridges between the mannitol particles led to anincrease in the hardness of the tablets. taken together this new methodtherefore makes it possible to prepare odts with opposing physicochemical properties such as rapid disintegration time and enhancedhardness. in addition we developed orally disintegrating tea tabletsodtts containing powdered tea leaves. these odtts disintegratedwithin the oral cavity within 30 s tanaka et al. 2016. in a preliminaryevaluation of antibacterial activity against s. mutans an odtt extractgreatly inhibited bacterial growth compared with artiﬁcial saliva. asthe disintegrated particles are kept in the oral cavity for a long time theantimicrobial action is sustained and this should increase the therapeutic eﬀect for oral care. if we could give odtts mucoadhesiveproperties the powdered tea that disintegrates in the oral cavity wouldadhere to the oral mucosa and exhibit sustained antibacterial actionagainst oral microbial ﬂora and provide eﬃcient oral care fig. 1.in the present study we tried to make mucoadhesive orally disintegrating tea tablets by adding polysaccharides. polysaccharides contain many connected monosaccharides and have diﬀerent types ofbonding and molecular weights wüstenberg 2015. polysaccharidescontain hydroxyl and carboxyl groups and their thickening or gellingaction is determined by the type and concentration of these groupsdickinson 2003. they are used in a wide range of applications infoods cosmetics oral care products and medicines avachat et al.2011 nayak et al. 2014 datta and bandyopadhyay 2006. mucin themain component of oral mucosa reportedly strengthens interactionswith hydrogen bond donors in the solute and polysaccharides containing many hydroxyl and carboxyl groups interact with mucin caronet al. 2015. this allows powdered tea to attach to the oral cavity viapolysaccharides. because we used microwave irradiation to prepare the2. materials and methods2.1. materialsoolong tea leaves utonrousousuisen were purchased from thebanboo cakan chinese tea ceremony kochi japan. dmannitolwas purchased in its β crystalline form from merck ltd tokyo japan.lowsubstituted hydroxypropyl cellulose lhpc mean particle size45 µm hydroxyepoxy group nbd020 was supplied by shinetsuchemical co. ltd tokyo japan. polyvinylpyrrolidone pvpkollidon 25 was obtained from basf japan tokyo japan. gumarabic gum arabic hp powder carrageenan sheepy gum fa guargum guar pack pf20 tamarind gum glyroid 6c and pectin hfpectin classic af701 were purchased from dsp gokyo food andchemical osaka japan. yeast nitrogen base without amino acids waspurchased from nippon becton dickinson co. ltd tokyo japan.glucose ammonium sulfate polypeptone s and monopotassiumphosphate were purchased from wako pure chemical industries ltdosaka japan. brain heart infusion was purchased from nissuipharmaceutical co. ltd. tokyo japan. all other reagents used wereof the highest grade available from commercial sources.2.2. design of mucoadhesive tablet formulations containingpolysaccharidecoated tea powders2.2.1. formulation of odtts containing polysaccharidesodtts were prepared using an established method with a slightmodiﬁcation tanaka et al. 2016. oolong tea leaves were groundusing a standard tea grinder teaﬁne mutow shizuoka japan. theresulting powder was sieved through a 75µm screen and 32 ww ofthe powdered tea was placed in a mortar. a 1.68 m na2hpo4 aqueoussolution 40 ww mass fraction of the powdered tea mass for use asan adsorption solvent was then dropped into the mortar using a pipetteand the resulting mixture was stirred using a pestle to obtain a homogenous mixture. polysaccharide 1 ww mass fraction of the totalmass of mixed powder was added and it adsorbed onto and coated thepowdered tea surface. the odtt formulations are summarized intable 1. dmannitol 55 ww or 56 ww lhpc 10 ww andpvp 2 ww were then added and the resulting mixture was blendedwith the pestle. an additional portion of distilled water 45 ww massfraction of the total mass of mixed powder was then added to themortar as a granulation solvent and the resulting mixture was granulated for approximately 1 min. a portion 60 mg of the wet granuleswas compressed using a compression test apparatus mpc100 okadaseiko tokyo japan ﬁtted with several punches ø 5 mm. consideringthe further development of tablets which are easily handled and can betaken even by bedridden patients smaller sized tablet ø 5 mm wasselected. a compression force of 0.43 kn was used for tablet preparation. the wet molded tablets were heated in a microwave oven neeh226 panasonic osaka japan at 500 w which gave a reactiontemperature of 140 c. after microwave treatment the tablets werefig. 1. illustration of the interaction between oralmucosa and powdered tea after tablet disintegration.2international journal of pharmaceutics x 1 2019 100012r. kiniwa et al.were repeated three times and the average values were calculated.table 1odtt formulations containing polysaccharides.2.3.4. disintegration timethe disintegration time was measured using an odt tester odmate imotoseisakusyo kyoto japan. the bottom surface on which thetablets were placed was 4 mm mesh. the tablet was placed in the centerof the mesh and the tester loading tool was placed on the top of thetablet. an aliquot 10 ml of artiﬁcial saliva which contained distilledwater 1 l nacl 1.44 g kcl 1.47 g and tween 80 3 g and was at37 c was placed in a beaker and stirred at 1000 rpm. the tabletsandwiched between the loading tool and the bottom surface waslowered in the beaker to the predetermined position. the disintegrationtime was recorded as the period between when the tester arm waslowered to the predetermined position and when the loading tool touched the bottom of the mesh. the start and end points of each measurement were recorded by a photo microsensor. the maximum disintegration time for these experiments was set to 120 s. all of themeasurements were repeated three times and the average values werecalculated.dried in a thermostatic chamber at 80 c for 24 h.2.2.2. formulation of odtts with various tamarind gum mass fractionswe formulated odtts with various tamarind gum mass fractionstable 2. the mass fractions of powdered tea lhpc and pvp did notchange therefore 32 ww of the powdered tea 10 ww of lhpcand 2 ww of pvp were used. the preparation method was similar tothat described in section 2.2.1.2.3.5. adhesive property of the tabletsthe adhesive properties of the tablets were measured using a tabletype tensile compression testing machine force tester mct2150 adco. ltd. tokyo japan ikeuchitakahashi et al. 2013. the tablet tobe analyzed was ﬁxed with doublesided tape to the movable adapter.then a mucin layer 10 wv was prepared to the ﬁxed adapter.artiﬁcial saliva 50 μl was placed on the mucin layer and the movableadapter with tablet was placed in contact with the mucin layer. afterconﬁrming that the tablet was in contact with the artiﬁcial saliva andmucin layer and maintaining for 20 s the movable adapter was raisedsupplemental fig. 1a. the load at that time was measured and theadhesiveness was calculated from the load and the tablet area using eq.2. all of these measurements were repeated three times and theaverage values were calculated.2.3. characterization of odtts2.3.1. swelling degreethe degree of swelling was calculation according to eq. 1.swelling degree  thickness treated  thicknessuntreated 1where thicknesstreated and thicknessuntreated are the thickness of themicrowave treated and untreated tablets respectively. the thickness ofeach tablet was measured with a micrometer with a precision of0.01 mm cd20 mitsutoyo corporation kanagawa japan. three tablets were randomly selected for thickness measurements and theaverage values were used for subsequent calculations.adhesiveness 2.3.3. friabilitythe tablet friability was determined using a tablet friability testerfriabilator toyama sangyo osaka japan in accordance with theprocedure described in the seventeenth edition of the japanesepharmacopoeia oseiyeboah and sun 2015. all the measurementsparticle retention ratiobefore drop treatment g   after drop treatment g before drop treatment g 2.3.6. particle retention ratioeach tablet was pulverized with a mortar and pestle and 100 mg ofthe pulverized powders which have same particle size and particle sizedistribution analyzed by a laser diﬀraction particle size analyzermastersizer2000 marvern worcestershire ukdata not shown wassuspended in 1 ml of artiﬁcial saliva. for analysis a mucin layer 10 wv was prepared on a glass slide. the glass slide was inclined at 15and the suspension was dropped on it at a rate of 1 mlminsupplemental fig. 1b. the weights of the suspension before and afterthe test were used to calculate particle retention ratio on the mucinlayer eq. 3. all of these measurements were repeated three timesand the average values were calculated.2.3.2. tablet hardnessthe tablet fracture strength was deﬁned as the force required tobreak the tablet by radial compression. the tablet hardness was determined using a tablet hardness tester pc30 okada seiko tokyojapan. all of these measurements were repeated three times and theaverage values were calculated.0.5load n tablet area m232.3.7. tablet surfacethe tablet surface was observed using a scanning electron microscope miniscopetm3030 hitachi hightechnologies co. tokyojapan.2.3.8. polysaccharide viscositythe viscosity was measured using a viscometer rv dv 2 t ekokoseiki co. ltd. tokyo japan after dissolving 10 mg of each polysaccharide gum arabic carrageenan guar gum tamarind gum orpectin in 1 ml of 1.68 m aqueous na2hpo4 with stirring for 1 min at3international journal of pharmaceutics x 1 2019 100012r. kiniwa et al.fig. 2. tablet properties of orally disintegrating tea tablets manufactured using polysaccharides. a swelling degree b hardness c friability d disintegrationtime e adhesive property with tablets and f particle retention ratio. p  0.05 and p  0.01 versus the tablets without polysaccharide f1. each columnrepresents the mean  s.d. n  3.shimadzu kyoto japan to determine the amounts of epigallocatechingallate egcg. a mixture of methanol solvent a and puriﬁed watersolvent b which was deaerated ultrasonically for more than 10 min inadvance was used as the mobile phase with a ﬂow rate of 1.0 mlmin.quantiﬁcation was carried out on tsk ods80tm 150 mm  4.6 mm5 µm. the column temperature was 40 c and the sample volume was5 µl. the detector was set at 280 nm. for the elution program theproportion of solvent a was increased from 10 to 50 from 0 to30 min.in addition to completely elute the egcg from the oolong tealeaves further incubation 100 rpm 1 h was performed after dissolution test and the total amount of egcg was determined. the ratio ofegcg released into the medium  was quantitatively obtained bydividing by the total amount of egcg.12 rpm. measurements were carried out at 25 c and 80 c. all of thesemeasurements were repeated three times and the average values werecalculated.2.3.9. dissolution of epigallocatechin gallatea dissolution test was performed for polysaccharidefree tabletswithout microwave f1without microwave odtts with microwavef1 tablets containing 1 ww tamarind gum without microwave f5without microwave and odtts containing 1 ww mass fractiontamarind gum with microwave f5 using the paddle apparatus. eachtest was performed by placing 10 tablets in each vessel which was ﬁlledwith 150 ml of ph 6.8 phosphate buﬀer solution and kept at37  0.5 c. the paddle speed was adjusted to 50 rpm. samples weretaken after 5 10 min 20 min 30 min 1 h and 2 h. the samples wereﬁltered through a ﬁlter with a pore size of 0.20 µm and then applied forhighperformance liquid chromatography hplc lc2010cht4international journal of pharmaceutics x 1 2019 100012r. kiniwa et al.fig. 3. scanning electron micrographs of the surfaces of orally disintegrating tea tablets manufactured using polysaccharides. magniﬁcation 600 f1 f2 f3 f4f5 and f6. yellow triangles indicated the void with a diameter of over 3 μm. for interpretation of the references to colour in this ﬁgure legend the reader isreferred to the web version of this article.of the resulting mixture was adjusted to 7.1 with a sodium hydroxidesolution. this mixture was used as the catechin medium. the catechinmedium 8 ml test solution 1 ml and s. mutans 270 µl were cultured for 24 h in brain heart infusion in a boiling tube. thereaftercultivation was carried out at 37 c. the turbidity at 651.5 nm wasmeasured at 0 3 5 and 7 h using a spectrophotometer uvmini1240shimadzu co. and used for determination of growth inhibition. thesample containing artiﬁcial saliva was designated as the control forcomparison purposes. all of these measurements were repeated threetimes and the average values were calculated.2.4. antibacterial eﬀect2.4.1. preparation of test solutionsfive polysaccharidefree tablets without microwave f1withoutmicrowave five odtts with microwave f1 five tablets containing1 ww tamarind gum without microwave f5without microwaveand five odtts containing 1 ww tamarind gum with microwavef5 were incubated in separate 10ml aliquots of artiﬁcial saliva for1 h at 37 c. after 10 min of sonication centrifugation was performedfor 20 min. each supernatant was ﬁltered through a 0.20μm sterilizingﬁlter to prepare a test solution.2.5. statistical analysis2.4.2. quantitative analysis of catechinsquantiﬁcation of catechins epicatechin gallate ecg gallocatechin gallate gcg epigallocatechin egc and egcg in the prepared tablets was carried out by hplc lc2010cht in the samemanner described in section 2.3.9.all date were expressed as the mean  standard deviation. in tablets properties the statistical signiﬁcance of diﬀerences betweenodtts with microwave f1 and odtts with each polysaccharide aswell as between odtts containing 1 ww tamarind gum with microwave f5 and odtts containing 0.5 3 and 5 ww tamarind gumwith microwave was determined using anova. pvalues  0.05 wereconsidered to be statistically signiﬁcant.2.4.3. evaluation of the antibacterial eﬀectyeast nitrogen base without amino acids 4 g glucose 2.5 gammonium sulfate 2.5 g polypeptone s 1 g monopotassium phosphate 0.5 g and water 1000 ml were added to a beaker and the ph5international journal of pharmaceutics x 1 2019 100012r. kiniwa et al.3. results and discussiongum had higher viscosities than other polysaccharides at 25 c. weassumed that this was caused by aggregation of polysaccharide molecules by dehydration of saccharides and alcohols and by formation ofhigherorder networks by hydrogen bonding of saccharides and alcohols with polysaccharide molecules. from these results we consideredthat artiﬁcial saliva rapidly inﬁltrated into f5 in the 20 s and the tamarind gum dissolved. the adhesiveness was high in this case becausetamarind gum strongly bound to mucin via hydrogen bonding. guargum also had a high viscosity like tamarind gum but the adhesivenessof the tablet containing guar gum was not as high as that of f5. weconsidered that this diﬀerence was caused by the permeability of theodtts. a small air gap was observed in f4 and it had a disintegrationtime of 120 s fig. 3 so the permeability to f4 appeared to be lowerthan that of f5. therefore despite the high viscosity the amount ofguar gum dissolved was small and the adhesiveness of f4 was lowerthan that of f5. for the particle retention ratio although bonding between the pulverized tablet particles and the mucin layer was relativelyhigh fig. 2f f4 had a disintegration time of 120 s or more.in summary although there were no diﬀerences in the swellingdegree hardness and friability among the formulations f2 and f5quickly disintegrated within 30 s and f5 had high adhesiveness properties and a high particle retention ratio.3.1. evaluation of odtts containing polysaccharides 1 ww massfractionthe degree of swelling hardness friability disintegration timeadhesiveness and particle retention ratio results are shown in fig. 2.the degree of swelling did not diﬀer between formulations and allformulations swelled by about 1 mm fig. 2a. this suggests that whenthe wet tablet was microwave irradiated water vapor inside the tabletevaporated and the tablet swelled. suﬃcient swelling should shortenthe disintegration time. the results of our previous study showed thatswelling of over 0.2 mm was suﬃcient for shortening the disintegrationtime of odts sano et al. 2011. all formulations had hardness valuesof over 13 n fig. 2b which is suﬃcient hardness for a 5mm diametertablet tanaka et al. 2016. this is because the excipient dmannitolmelts at 168 c and forms strong particletoparticle bonds during microwave irradiation. in addition because of the high hardness thefriability was  1 in all formulations fig. 2c. however the disintegration times were more than 120 s for f3 f4 and f6 which contained carrageenan guar gum and pectin respectively fig. 2d. bycomparison f1 and f2 which contained gum arabic and f5 whichcontained with tamarind gum had disintegration times of  30 s. according to the food and drug administration odts should disintegratewithin 30 s fda 2008. the disintegration times of f1 f2 and f5satisﬁed this requirement.we also observed the surfaces of the tablets by sem fig. 3. manysmall voids diameter over 3 μm were observed in f1 f2 and f5whereas few voids were observed in f3 f4 and f6. generally as thenumber of voids increases the water permeation to the interior of thetablet increases and the disintegration time decreases kondo et al.2012. by contrast as the number of voids decreases the water permeation decreases and the disintegration time increases. therefore thedisintegration times indicate that f1 f2 and f5 have many voids andgood water permeation.among the tablets f5 showed the highest adhesiveness with themucin layer fig. 2e and f. the high adhesiveness of tamarind gummight be caused by its viscosity. we measured the viscosities of thepolysaccharides at 25 c and 80 c fig. 4. guar gum and tamarind3.2. eﬀect of the tamarind gum concentration on physicochemicalproperties of the odttsour results showed that odtts containing tamarind gum had goodhardness rapid disintegration and high adhesiveness. therefore weinvestigated the eﬀect of the tamarind gum mass fraction on physicochemical properties of the odtts. we measured the degree of swellinghardness friability disintegration time adhesiveness and particle retention ratio for tablets with tamarind gum mass fractions of 0.5 1 3and 5 ww fig. 5. for odtts with tamarind gum mass fractions of0.5 and 1 ww the degree of swelling was about 1 mm but as thetamarind gum mass fraction increased to 3 and 5 ww the degree ofswelling decreased to about 0.5 mm fig. 5a. this is because a gel wasformed in the tablet as the proportion of tamarind gum increased andeven though microwave irradiation was carried out the water vaporcould not suﬃciently expand the tablet. the hardness values were over13 n in all formulations fig. 5b. because of the high hardness allformulations had friability values of  1 fig. 5c which suggeststhat the hardness is enough. when the tamarind gum mass fraction was0.5 or 1 ww the disintegration time was  30 s fig. 5d howeveras the tamarind gum mass fraction increased the disintegration timeincreased to  60 s.when we observed the tablet surfaces by sem many voids wereobserved in odtts containing 0.5 and 1 ww mass fraction tamarind gum whereas hardly any voids were observed in odtts containing 3 and 5 ww mass fraction tamarind gum fig. 6. as discussed above with an increase in the viscosity of tamarind gum thesurface voids would disappear. this indicates that the lack of voidsprevents water permeation into the tablet and extends the disintegration time.the adhesive properties of the tablets increased as the mass fractionof tamarind gum increased fig. 5e. because of the increase in thetamarind gum mass fraction the viscosity increased and the bond withthe mucin layer became stronger. this increased the load and the adhesiveness increased. in addition as the mass fraction of tamarind gumincreased the particle retention ratio increased fig. 5f. it is thoughtthat as the content of tamarind gum bonded to the mucin layer increased the adhesiveness increased. therefore although an increase inthe mass fraction of tamarind gum tended to enhance the adhesivenessof the tablet addition of 1 ww tamarind gum produced tablets withsuﬃcient hardness disintegration and adhesiveness.fig. 4. viscosities of polysaccharides dissolved in a 1.68 m na2hpo4 solution.a 25 c and b 80 c. p  0.05 and p  0.01 versus gum arabic. eachcolumn represents the mean  s.d. n  3.6international journal of pharmaceutics x 1 2019 100012r. kiniwa et al.fig. 5. properties of orally disintegrating tea tablets manufactured using tamarind gum. a swelling degree b hardness c friability d disintegration time eadhesiveness and f particle retention ratio. p  0.05 and p  0.01 versus the tablets with 1 ww tamarind gum. each column represents the mean  s.d.n  3.microwave treated tablets f1 and f5 showed rapid dissolutioncompared with tablets prepared without microwave. this was becausethe powdered tea became friable at the high temperature induced bymicrowave irradiation and this increased the egcg dissolution.3.3. evaluation of the dissolution behavior of egcgwe studied the dissolution behavior of egcg which is an activecompound in tea leaves fig. 7. we examined its dissolution usingodtts containing 1 ww mass fraction tamarind gum and preparedwith microwave f5. these tablets showed rapid disintegration andhigh adhesiveness. in addition we carried out a dissolution test withpolysaccharidefree tablets without microwave f1without microwave odtts with microwave f1 and tablets containing 1 wwmass fraction tamarind gum without microwave f5without microwave. f1 showed the highest dissolution rate until 30 min and after1 h all tablets showed dissolution rates of almost 90. compared withf1 and f5 even with the addition of tamarind gum f5 showed a dissolution rate of 90 or more after 1 h. therefore addition of tamarindgum hardly aﬀected the dissolution rate of egcg. in addition3.4. quantitative analysis of catechinin addition to the dissolution study of egcg we extracted otheractive compounds from the tablets and performed quantitative analysesfor further antibacterial studies. the quantitative values for all compounds ecg gcg egc and egcg table 3 were lower after microwave treatment than before. this indicates that they were likelyconverted to other compounds by microwave irradiation or decomposed. however even when tamarind gum was added fast dissolutionwas observed compared with the tablet without tamarind gum. this7international journal of pharmaceutics x 1 2019 100012r. kiniwa et al.fig. 6. scanning electron micrographs of the surfaces of orally disintegrating tea tablets manufactured using tamarind gum. magniﬁcation 40 0.5 1 3 and 5 ww.fig. 7. dissolution proﬁle of egcg from polysaccharidefree odtts withwithout microwave and odtts containing 1 ww mass fraction tamarindgum withwithout microwave. each symbol represents the mean  s.d.n  3.suggests that tamarind gum does not aﬀect the active ingredients contents ecg gcg egc and egcg.fig. 8. evaluation of the antibacterial eﬀects when extracts from tablets weretreated. p  0.01 versus control. each symbol represents the mean  s.d.n  3.3.5. evaluation of the antibacterial eﬀectnext we studied the antimicrobial activity against s. mutansfig. 8. the vertical axis represents the absorbance at 651.5 nm. ap  0.05 and p  0.01 versus f1without microwave group. p  0.01 versus f5without microwave. each value represents the mean  s.d. n  3.8international journal of pharmaceutics x 1 2019 100012r. kiniwa et al.appendix a. supplementary datahigher absorbance value means s. mutans is proliferating whereas alower absorbance value means that growth of s. mutans is suppressed.the absorbance of the control gradually increased with time andmarked proliferation of s. mutans was observed. in all formulations theabsorbances were markedly low and little bacterial growth was observed indicating that all formulations had growth inhibitory eﬀects.from the results of dissolution tests we found egcg had a dissolutionrate of 90 or more at 1 h fig. 7. therefore although the amounts ofthe active compound in f1 and f5 were a little bit lower than those intablets prepared without microwave irradiation suﬃcient egcg waspresent to show antibacterial activity. overall the slight diﬀerences oftotal amounts of egcg did not aﬀect the antibacterial properties. previously egcg have been reported to inhibit the formation of glucosyltransferases and bioﬁlms at 500 µgml koo et al. 2002 which issimilar to our results. we can conclude that polyphenols extracted fromtea leaves seems show signiﬁcant growth inhibitory eﬀects.supplementary data to this article can be found online at httpsdoi.org10.1016j.ijpx.2019.100012.',\n",
       " 'Anti Toxoplasma Gondii Activity Of 5 Oxo Hexahydroquinoline Derivatives   Synthesis, In Vitro And In Vivo Evaluations, And Molecular Docking Analysis': 'background and purpose the aim of this study was to evaluate the in vitro and in vivo antitoxoplasma gondii t. gondii effect of 5oxohexahydroquinoline compounds. moreover molecular docking study of thecompounds into the active site of enoylacyl carrier protein reductase enr as a necessary enzyme for thevitality of apicoplast was carried out.experimental approach a number of 5oxohexahydoquinoline derivatives z1z4 were synthesized. thet. gondii tachyzoites of rh strain were treated by different concentrations 164 μgml of the compounds.the viability of the encountered parasites with compounds was assessed using flow cytometry and propidiumiodide pi staining. due to the high mortality effect of z3 and z4 in vitro their chemotherapy effect wasassessed by inoculation of tachyzoites to four balbc mice groups n  5 followed by the gavage of variousconcentrations of the compounds to the mice. molecular docking was done to study the binding affinity of thesynthesized 5oxohexahydroquinolines into enr enzyme active site byusing autodock vina software.docking was performed by a lamarckian genetic algorithm with 100 runs.findings  results flow cytometry assay results indicated compounds z3 and z4 had relevant mortality effecton parasite tachyzoites. besides in vivo experiments were also performed and a partial increase of micelongevity between control and experiment groups was recorded. molecular docking of z3 and z4 in the bindingsite of enr enzyme indicated that the compounds were well accommodated within the binding site. thereforeit could be suggested that these compounds may exert their antit. gondii activity through the inhibition of theenr enzyme.conclusion and implications compounds z3 and z4 are good leads in order to develop better antit. gondiiagents as they demonstrated both in vitro and in vivo inhibitory effects on tachyzoites viability and infection.further studies on altering the route of administration along with additional pharmacokinetics evaluations areneeded to improve the antit. gondii impacts of 5oxohexahydroquinoline compounds.',\n",
       " 'The Effect Of Pramlintide, An Antidiabetic Amylin Analogue On Angiogenesis Related Markers In Vitro': 'background and purpose irregularities of angiogenesis may participate in the pathogenesis of diabetescomplications. pramlintide is an amylin analogue administered for the treatment of type 1 and type 2 diabetes.the present investigation aimed at surveying the effect of pramlintide on angiogenesisrelated markers inhuman umbilical vein endothelial cells huvecs.experimental approach the proliferation of cells was assessed using 345dimethylthiazol2yl25diphenyltetrazolium bromide mtt method. the effect of pramlintide on migration was estimated bytranswell assay. in vitro evaluation of angiogenesis was performed by tube formation assay. the secretionof vascular endothelial growth factor vegf to the supernatant of huvecs was measured by an enzymelinked immunosorbent assay elisa kit. all experiments were performed in triplicate.findings  results pramlintide exhibited no inhibitory effect on huvecs proliferation. it significantlyincreased cell migration at the concentration of 1 µgml. pramlintide 1 µgml also enhanced average tubuleslength size and the mean number of junctions. however there was not any significant change in vegf releasefrom huvecs.conclusion and implications findings of this research revealed the effect of pramlintide on angiogenesisrelated markers via enhancing migration and tubulogenesis in vitro suggesting a worthwhile proposition forfurther clinical researches on improving vascular complications and healing of diabetic wounds.',\n",
       " 'Pharmaceutical Care In A Patient With Recurrent Infection After Liver Transplant': 'case description a case of a 57yearold liver transplant patient with biliary drainage catheter whose recurrentinfection was managed by clinical pharmacists. the suggestions about the choice of antibiotic regimen and themonitoring to other related infection factors such as biliary drainage catheter and concentration of tracrolimus wereaccepted and used to the patient. the state of the infected patient was improved.conclusion the antibiotics distribution antibacterial effect and drug resistance could be taken into considerationfor the patients with recurrent infection after liver transplant. the resistance of antibiotics could be deferred by alteringsuitable antibiotics. close care to catheter and immunosuppressants could be necessary to prevent infection for thepatients after transplant.keywords pharmaceutical care recurrent infection livertransplant',\n",
       " 'Nanotechnology And Vaccine Development': 'article historydespite the progress of conventional vaccines improvements are clearly required due toreceived 28 march 2014concerns about the weak immunogenicity of these vaccines intrinsic instability in vivoreceived in revised formtoxicity and the need for multiple administrations. to overcome such problems nano7 june 2014technology platforms have recently been incorporated into vaccine development.accepted 9 june 2014nanocarrierbased delivery systems offer an opportunity to enhance the humoral andavailable online 18 june 2014cellular immune responses. this advantage is attributable to the nanoscale particle sizewhich facilitates uptake by phagocytic cells the gutassociated lymphoid tissue and thekeywordsmucosaassociated lymphoid tissue leading to efficient antigen recognition and presennanotechnologytation. modifying the surfaces of nanocarriers with a variety of targeting moieties permitsvaccine deliverythe delivery of antigens to specific cell surface receptors thereby stimulating specific andliposomesselective immune responses. in this review we introduce recent advances in nanocarrieremulsionsbased vaccine delivery systems with a focus on the types of carriers including liposomespolymeric nanocarriersemulsions polymerbased particles and carbonbased nanomaterials. we describe thecarbon nanomaterialsremaining challenges and possible breakthroughs including the development of needlefree nanotechnologies and a fundamental understanding of the in vivo behavior and stability of the nanocarriers in nanotechnologybased delivery systems. 2014 shenyang pharmaceutical university. production and hosting by elsevier b.v. this isan open access article under the cc byncnd license httpcreativecommons.orglicensesbyncnd3.0.1.',\n",
       " 'Hollow Fiber Based Liquid Phase Microextraction': 'article historyreceived 6 september 2019received in revised form9 december 2019accepted 11 december 2019available online 12 december 2019hollowﬁber liquidphase microextraction hflpme and electromembrane extraction eme areminiaturized extraction techniques and have been coupled with various analytical instruments for traceanalysis of heavy metals drugs and other organic compounds in recent years. hflpme and eme providehigh selectivity efﬁcient sample cleanup and enrichment and reduce the consumption of organic solvents to a few microliters per sample. hflpme and eme are compatible with different analytical instruments for chromatography electrophoresis atomic spectroscopy mass spectrometry andelectrochemical detection. hflpme and eme have gained signiﬁcant popularity during the recent years.this review focuses on hollow ﬁber based techniques especially hflpme and eme of heavy metals andpharmaceuticals published 2017 to may 2019 and their combinations with atomic spectroscopy uvvis spectrophotometry high performance liquid chromatography gas chromatography capillary electrophoresis and voltammetry. 2019 xian jiaotong university. production and hosting by elsevier b.v. this is an open access articleunder the cc byncnd license httpcreativecommons.orglicensesbyncnd4.0.keywordshollow ﬁber liquid phase microextractionelectromembrane extractionheavy metalspharmaceuticalsinstrumental techniques1. introductionmost analytical methods include sample preparation prior to theinstrumental analysis. the purpose of the sample preparation is tomake the sample compatible with the analytical instrument toremove interfering matrix components and to enrich the targetanalytes to a detectable level 1. different sample preparationtechniques are available but liquidliquid extraction lle andsolidphase extraction spe have been the most popular ones 2.for several decades different microextraction variants of lle andspe have been developed. this was originally motivated byreduction or elimination of organic solvents 3 and was initiated bypeer review under responsibility of xian jiaotong university. corresponding author. corresponding author at department of chemistry abdul wali khan university mardan 23200 kpk pakistan.email addresses bilalku2004yahoo.com m.b. arain stig.pedersenbjergaardfarmasi.uio.no s. pedersenbjergaard.the invention of solidphase microextraction spme by pawliszynet al. 4 and liquidphase microextraction lpme by jeannot andcantwell 5. since the introduction of these innovative samplepreparation methods a variety of spme and lpme methods havebeen reported in the literature. headspace solid phase microextraction hsspme intube solid phase microextraction itspme thinﬁlm solid phase microextraction tfspme headspace liquid phase microextraction hslpme liquidliquidmicroextraction based on solidiﬁcation of ﬂoating organic dropletllmesfo and dispersive liquidliquid microextraction dllmeare examples in this direction 6e11. while spme has becomecommercially available lpme is still performed with laboratorybuilt devices. in spite of this lpme is still a very active area ofresearch for reasons including 1 simplicity 2 costs 3 greenchemistry 4 selectivity and 5 method sensitivity. fig. 1 illustratesdifferent conﬁgurations and approaches to lpme. lpme was originally performed as single drop microextraction sdme 12. sdmeis still under development but in this approach the stability of thedroplet of organic solvent may be an issue.httpsdoi.org10.1016j.jpha.2019.12.00320951779 2019 xian jiaotong university. production and hosting by elsevier b.v. this is an open access article under the cc byncnd license httpcreativecommons.orglicensesbyncnd4.0.110w.a. khan et al.  journal of pharmaceutical analysis 10 2020 109e122fig. 1. classiﬁcation of liquid phase microextraction techniques.considering these limitations hollow ﬁber protected liquidphase microextraction hflpme was introduced in 1999 13. inthe ﬁrst paper hflpme was utilized for preconcentration andextraction of pharmaceuticals prior to electrophoretic identiﬁcation and determination. an aqueous extraction solvent was injectedinto the lumen of a porous polypropylene hollow ﬁber membranewhile the porous wall was impregnated by an organic supportedliquid membrane slm. as the extraction solvent acceptor phasewas not in direct contact with the sample solution the extractionsystem was stable and highly efﬁcient sample cleanup was achieved with this innovative strategy. hflpme can be utilized forquantitative analysis from very complex environmental and biological samples 14.a typical hflpme setup consists of a porous hollow ﬁbermembrane made of polypropylene polytetraﬂuoroethylene andpolyvinylidene ﬂuoride which is impregnated with an organicsolvent. the solvent is immobilized in the pores in the wall of thehollow ﬁber membrane and serves as supported liquid membraneslm 15. the acceptor phase can be either an aqueous solution oran organic solvent. due to this ﬂexibility hflpme is compatiblewith most analytical instruments for chromatography electrophoresis molecular and atomic spectrometry and electrochemistry. the current review discusses recent applications of hfbasedmicroextraction for pharmaceutical and heavy metal applicationsand on their compatibility with different instrumental methods.2. principles and possible modes of the hflpmein hfbased lpme methods the extraction phase is placed in thelumen of a porous hollow ﬁber. in such a way the acceptor phase isprotected by the slm. to perform hflpme a polypropylene hollow ﬁber membrane may ﬁrst be sonicated in acetone to removepolymer impurities 16. then the hollow ﬁber membrane is soakedin an impregnating solvent to ﬁll the pores of the hf membrane bycapillary forces and excess solvent may be removed by washingwith distilled water 17. after this step the lumen of the hollowﬁber is ﬁlled with the acceptor phase. as is thoroughly discussedbelow the acceptor phase can be the same organic solvent as theslm the twophase mode or can be an aqueous solution thethreephase mode. finally the hollow ﬁber is immersed in thesample solution and the analytes are extracted from the samplethrough the slm and into the acceptor phase 18. four differentarrangements for hflpme have been reported i.e. rod like ushaped hollowﬁber solvent bar and knotted hollowﬁber.considering the physicochemical characteristics of the desiredanalytes and levels of complexity of the sample hflpme can beperformed in a two or threephase mode.2.1. twophase hflpmein twophase hflpme the pores in the wall of the hollow ﬁberand the lumen are ﬁlled with an organic solvent which is immiscible with the aqueous sample solution. solvents like 1octanol anddihexyl ether are commonly used 19. twophase hflpme isapplied for extraction and preconcentration of analytes with lowpolarity such as polycyclic aromatic hydrocarbons pahs. since theanalytes are extracted into an organic solvent twophase lpme iscompatible with gas chromatography. fig. 2 illustrates the principleof twophase hflpme. according to this the slm and the organicacceptor phase are the same in twophase hflpme.2.2. threephase hflpmein threephase lpme the pores in the wall of the hollow ﬁberare ﬁlled with an organic solvent immiscible with water while thelumen is ﬁlled with aqueous solution acceptor solution. 1octanoland dihexylether are common solvents 20. the mechanism ofextraction is based on ph adjustment of the sample solution andthe aqueous acceptor phase. for instance extraction of acidiccompounds is achieved by acidiﬁcation of the sample to suppressionization of the target analytes. this results in successful transferof analytes towards the acceptor phase through the organic slm.ph of the aqueous acceptor solution should be adjusted to a phvalue 2e3 units above pka of the analyte.carrier mediated threephase hflpme was introduced where ahydrophobic carrier was dissolved in the organic slm before theimpregnation of the hf pores 21. the applied carrier is an organiccompound capable of ionpairing with analytes of interest. henceat the contact region between the sample solution and the slm thedesired ionpair complexes are formed leading to successfulextraction of target analytes. at the contact region between theslm and the aqueous acceptor phase the analyte is exchanged withw.a. khan et al.  journal of pharmaceutical analysis 10 2020 109e122111fig. 2. a schematic mechanism of the twophase hflpme.a suitable inorganic counter ion dissolved in the acceptor solutionand is released into the acceptor solution.as mentioned threephase hflpme can be applied for ionizable compounds acids and bases. twophase hflpme offers highpfs and extraction efﬁciencies for nonpolar analytes. howeverbecause the slm and the acceptor phase are the same organicsolvent there is no phase boundary. therefore cleanup is limited.interestingly ghambarian et al. introduced a variant where ndodecane was used as the organic slm while organic solvents likemethanol ethanol or acetonitrile which are all immiscible with ndodecane were used as acceptor phase 22. this strategy providedimproved sample cleanup while extraction efﬁciency was notsacriﬁced. fig. 3 illustrates the principles of threephase hflpme.hflpme can be carried out through static dynamic and evenfully automated strategies. one of the most interesting approachesfor dynamic hflpme was introduced by esraﬁli et al. called ttextraction 23. between two t connectors a stainlesssteel tubewas mounted housing the hollow ﬁber membrane. the samplesolution was pumped into the ttextractor through the two tconnectors while the acceptor phase was injected into the hollowﬁber membrane via a syringe pump. this conﬁguration was capableof carrying out twophase hflpme. fig. 4 illustrates this innovative approach with all the details. in another strategy offered by thesame research group a fully automated hflpme with capabilityfor two and threephase hflpme procedures was developed. inthis setup a syringe pump was used for washing ﬁlling andejection of different solvents. four containers were used forwashing solvent slm extraction solvent and elution solvent. theextraction system was successfully connected with liquid chromatography. fig. 5 shows the graphical design of this hflpmeinstrument 24.2.3. electromembrane extractionin hflpme mass transfer is by passive diffusion and this resultsin relatively slow extraction kinetics. alternatively ionizable compounds can be extracted efﬁciently and with outstanding samplecleanup by electromembrane extraction eme 25. the principlew.a. khan et al.  journal of pharmaceutical analysis 10 2020 109e122of eme is similar to that of hflpme. however in eme the analytesare extracted selectively in their charged form under the inﬂuenceof an electrical ﬁeld. thus mass transfer is by electrokineticmigration across the slm and 2nitrophenyl octyl ether npoe isoften used as slm. the setup for eme is very similar to threephasehflpme but in eme two electrodes usually platinum wires areutilized. one electrode is placed in the acceptor phase into thehollow ﬁber lumen while the second electrode is inserted into thesample solution. fig. 6 shows the principle of eme.for extraction of basic analytes the cathode  is placed insidethe acceptor phase while for acidic analytes the direction of theelectrical ﬁeld is reversed 18. after extraction the acceptor phaseis collected with a microsyringe and injected into an analyticalinstrument for quantitative analysis. due to the electrical ﬁeldacross the slm bubble formation joule heating and even punctuation of slm may occur in eme systems operated under nonoptimal conditions. these phenomena occur in longer extractiontimes as a result of excessive migration of ions across slm. alsowhen the electrical ﬁeld is applied electrical double layers andlocal ph gradients are formed in the interfaces between the slmand the aqueous solutions on both side. these may impact the masstransfer. to reduce the impact of these phenomena application ofconstant direct electrical current and application of pulsed voltagehave been reported 26. although the utilization of a stabilized andconstant direct current improved the efﬁciency and stability ofeme this approach is still not common in eme publications. pulsedelectromembrane extraction peme was introduced as a strategyto enhance the efﬁciency of eme using a simple and inexpensiveextraction setup 27. pulsed voltage was found to improveextraction efﬁciency and system stability.3. operational parameters of hflpme and emethe type of hollowﬁber membrane type of extraction solventph of donor and acceptor phases extraction time stirring rate saltaddition and temperature are important parameters in hflpmeand eme. applied voltage and electrode material thickness anddistance are additional parameters affecting eme performance.w.a. khan et al.  journal of pharmaceutical analysis 10 2020 109e122113fig. 6. a schematic mechanism for electromembrane extraction.3.1. hollowﬁber membranethe porous wall of the hollowﬁber serves as support for theslm. the slm solvent should be of low polarity and immisciblewith water. for immobilization of such lowpolarity solvents thehollowﬁber should be of hydrophobic material 28. in most casespolypropylene hollowﬁber membranes have been used. suchhollowﬁbers are commercially available at a low price. thereforeeach hollowﬁber membrane is used only for a single extractionand is then discarded. alternatively polyvinylidene diﬂuoridehollowﬁber membranes can be used 14.3.2. supported liquid membrane slmthe solvent selected for the slm plays a major role for the stability and the efﬁciency of the extraction system both in hflpmeand eme. first the solvent should be nonvolatile in order toavoid evaporation and solvents with boiling point exceeding200  c are recommended. second the solvent should be immisciblewith water in order to avoid leakage to the sample. usually solventswith water solubility less than 0.5 mgml are recommended. thirdthe solvent should facilitate efﬁcient mass transfer of target analyte14. in hflpme high efﬁciency can often be obtained with a variety of organic solvents. common organic solvents for hflpmeinclude ndihexyl ether 1octanol dodecyl acetate and toluene.ionic liquids have also been used as slm solvent in hflpme 28. ineme the type of solvent used for the slm is much more critical29. this is due to the fact that analyte molecules are charged whenentering the organic slm and partition is voltage dependent.common organic solvents used in eme are 2enitrophenyloctylether npoe and 1octanol.3.3. sample and acceptor phsample and acceptor ph plays a major role both in hflpme andeme. in hflpme the analyte is extracted in neutral form into theslm while it is ionized in contact with the acceptor. therefore forextraction of basic analytes the sample should be alkaline whilethe acceptor should be acidic or neutral depending on analyte pkavalue. for hflpme of acidic analytes the ph gradient is reversedusing acidic conditions in the sample and alkaline or neutral conditions in the acceptor 3031. in eme the analytes are ionized inthe entire extraction system. thus for basic analytes both thesample and the acceptor are neutral or acidic. for acidic analyteseme is conducted with neutral or alkaline conditions in sample andacceptor 32. due to local ph effects 33 at the slm boundarylayers ph in the acceptor solution is critical in eme and for basicanalytes ph should be no less than three units above pka. inaddition ph may change in the sample and acceptor during emedue to electrolysis 34 and therefore buffers are recommended inboth sample and acceptor.3.4. extraction timeboth hflpme and eme are equilibrium techniques. this impliesthat extraction recovery increases rapidly versus time during initialextraction and after a certain period of time the systems enterequilibrium. thus from a theoretical point of view recovery isconstant from this point forward and extraction is terminated.equilibrium time is typically in the range 30e60 min for hflpmedepending on the chemical properties of the analytes and the geometry of the system 35. for eme equilibrium time is shorter dueto the electrokinetic mass transfer and ranges typically from 5 to15 min. in eme recoveries may drop during prolonged extractiondue to ph changes in sample and acceptor and due to instability ofthe slm 36.3.5. stirringagitationhflpme and eme are performed under stirring or agitationconditions. by such convection is induced in the sample and analyte mass transfer to the slm is facilitated. in addition stirring oragitation reduces the boundary layer thickness at the sampleslminterface and this is very important for efﬁcient mass transfer 31.the optimal stirring or agitation rate is geometry dependent and isnormally optimized during method development. typically stirring or agitation in the range 500e1000 rpm is used. at higherrates air bubbles are often formed and this can reduce extractionperformance 37.3.6. salt additionaddition of salt to the sample affects the efﬁciency of hflpmeand eme. in hflpme the addition of salt to the sample solution114w.a. khan et al.  journal of pharmaceutical analysis 10 2020 109e122often increases the extraction efﬁciency 3839. the increase inextraction efﬁciency is due to increased ionic strength in thesample which increases analyte partition into the organic slm.however negative effects of salt in the samples are also reported4041. this may be due to changes in the nernst diffusion ﬁlmcontrolling the diffusion rate of analytes into the acceptor phase4243. typical salt additions are 5e30 wv 44. in emeaddition of salt to the sample is normally not performed. for efﬁcient eme a low ion balance may be favorable under certain conditions 45e47. the ion balance is deﬁned as the ratio between thetotal amount of ions in the sample and the total amount of ions inthe acceptor phase.3.7. temperaturehflpme and eme are normally performed at room temperature. both extraction modes are affected by temperature. partitioncoefﬁcients decrease with the increase in temperature whilediffusion across the slm increases. temperatures up to 40 c havebeen used but above this temperature slms tend to be less stable3748.3.8. electrodes emeplatinum is normally used as inert electrode material in eme.the electrode thickness plays a key role in eme. the internaldiameter of the electrodes should be substantially less than theinner diameter of the hollow ﬁber in order not to displace acceptorphase. the distance between the electrodes is another importantparameter 49.3.9. applied voltage emegenerally the extraction efﬁciency in eme increases with theincreasing voltage up to a certain level. above this there is nofurther gain in extraction efﬁciency and mass transfer is no longerlimited by the voltage. voltages applied in eme normally rangefrom 5 to 300 v. voltages exceeding 300 v are not recommendeddue to instability of the extraction system and generation of gasbubbles electrolysis 37.microﬂuidic paperbased analytical device mpad for extractionof cr vi. the membrane was impregnated in a mixture of aliquat336 and 1octanol for 1 min. the acceptor phase was collected forcolorimetric analysis after eme and dpc reagent was added. forquantitative analysis a scanner was used and colored images wereanalyzed with rgb. the results were compared with icpaes andfound in good agreement 57.4.1.2. uvevisible spectrophotometryuvevisible spectrophotometry has been commonly selected asinstrumental technique for quantitative analysis of heavy metalshighly conjugated organic compounds and biological macromolecules due to easy availability simplicity versatility speed accuracyprecision and costeffectiveness. however in complex samples theanalytes cannot be measured directly with a uvevisible spectrophotometer due to low concentration. therefore a sample preparation step is necessary to improve selectivity and sensitivity.atikarnsakul et al. presented an eme procedure for preconcentration and extraction of crvi. polypropylene hollow ﬁber membranewas impregnated with npoe and used for eme. for quantitativeanalysis a speciﬁc volume of acceptor phase was mixed with aspeciﬁc concentration of dpc and acidiﬁed with dilute h2so4. theresultant redviolet solution was analyzed with a ﬁber opticultravioletevisible spectrophotometer with a zﬂow cell at 544 nm61.onac et al. introduced a new approach to preconcentration andextraction of crvi. a polymer inclusion membrane was synthesized and used as slm for eme. the polymer inclusion membraneimpregnated with npoe contained calix 4arene. the eme processwas performed under constant current instead of constant voltageto control the extraction of charged species. the use of constantcurrent in eme provided high reproducibility and mechanical stability. the formation of metalcalix 4arene ion pair at themembraneaqueous phase interface enhanced the transport ofmetalcomplex ion through the membrane. bathwater of chromeplating industry was used as real sample for analysis to check theselectivity of calix 4arene towards crvi 62. table 1 summarizesexamples on research combining hollow ﬁber based extractiontechniques with uvevis spectrophotometry 61e65.4.2. pharmaceuticals4. instrumental techniques coupled with hflpme and eme4.1. heavy metals determination4.1.1. atomic spectrometrycombinations of hollow ﬁber based techniques and atomicspectroscopic techniques have mainly been used for detection ofheavy metals in environmental clinical and biological samplespetroleum products pharmaceuticals and in food 50. the hollowﬁber based techniques coupled with atomic spectrometric techniques for preconcentration and determination of different heavymetals are summarized in table 1 51e60. hflpme has beencoupled to ﬂame atomic absorption spectroscopy faas andgraphite furnace atomic absorption spectrometry gfaas formetal analysis 51e55. in one example tahmasebi et al. introduced a new approach to the extraction of cr vi based on emecoupled with electrothermal atomic absorption spectrometryetaas. before using the hollow ﬁber membrane as slm polyaniline nanoparticles were coated on the surface to increase theselectivity for the extraction of crvi. the polyaniline reinforcedhollow ﬁber selectively extracted cr vi from real samples viaanion exchange. the surface area of the nanostructure coated polyaniline increased the preconcentration of the target analyte 56.in another example alahmad et al. introduced an hflpme4.2.1. high performance liquid chromatography hplcthreephase hflpme and eme are ideal for acidic and basicdrugs. in threephase hflpme the acceptor phase is an aqueoussolution and this can be injected directly into hplc systemswithout previous evaporation and reconstitution 30. for extraction of basic analytes in hflpme ph of donor phase must be keptalkaline to suppress the ionization and solubility of the analytewhereas ph for acceptor phase should be acidic. in case of acidicanalytes the ph gradient across the slm is reversed 3031. forextraction of basic analytes in eme ph of donor and acceptorphases are kept acidic to ionize the analytes. the anode is placed inthe donor phase while the cathode is placed in the acceptor phaseto facilitate the migration of analyte. in case of acidic analytes thedonor and acceptor phases are made alkaline and the direction ofthe electrical ﬁeld is reversed 3032. threephase systems providebetter degree of cleanup than two phase systems due to the factthat most water soluble components do not pass through the slm.khan et al. presented a new strategy for selective and simultaneous extraction of three drugs with different hydrophobicityproperty. the eme process was carried out in a microﬂuidic chipdevice. the microﬂuidic device consisted of three pmma plateshaving m shaped microchannels. the middle pmma plate provideda ﬂow path for sample solution and was in contact with twoeme electromembrane extraction hflpme hollow ﬁber liquid phase microextraction ieme intube electromembrane extraction cmhflpme carriermediated hollow ﬁber liquid phase microextraction dehp bis2ethylhexyl phosphate ctab nnncetyltrimethyl ammonium bromide apdc ammonium pyrroldinedithiocarbamate pani polyanniline ddtc diethyldithiocarbamate pan 12pyridylazo2naphthol npoe 2nitrophenyl octyl ether faas flame atomic absorption spectroscopy gfaas graphite furnace atomic absorption spectrometry etvicpoes electrothermal vaporization inductive couple plasma optical emission spectroscopy rgb icpaes red green blue analysis inductive couple plasma atomic emission spectroscopy.phthalate and nitrilebased organic solventshfdllme hollow ﬁber dispersive liquidliquid microextraction hflspme hollow ﬁber liquid solid phase microextraction peme pulsed electromembrane extraction cfeme continuousﬂow electromembrane extractionlpme liquid phase microextraction hfmmimspe hollow ﬁber membranemolecular imprintedmicro solid phase microextraction fmlpe flat membrane based liquid phase microextraction caehfeslpme cetylalcoholreinforced hollow ﬁber solid liquid phase microextraction miphfme molecular imprinted polymer hollow ﬁber microextraction dehpi bis2ethylhexyl phosphite tfpba 4triﬂuoromethylphenylboronic acid rgoreduced graphene oxide tbp tributyl phosphate dhe dihexyl ether pim polymer inclusion membrane topo trioctylphosphine oxide hplcuv high performance liquid chromatography with uv detector hplcms highperformance liquid chromatography with mass spectrometry hplcdadfld high performance liquid chromatography with diode array detector and ﬂuorescence detector hplcuvms high performance liquid chromatography with uv detector and mass spectrometry uhplcms ultra high performance liquid chromatography with mass spectrometry hplcdad high performance liquid chromatography with diode array detectorfluorometerrgb hplcuv fluorometer red green blue analysis high performance liquid chromatography with uv detector.emeeallme electromembrane extraction and electroassisted liquidliquid microextraction emspme electromembrane surrounded solid phase microextraction gemedllme gelelectromembrane exraction  dispersiveliquidliquid microextraction paeme parallel electromembrane extraction enb 1ethyl2nitrobenzene mwcnts multiwalled carbon nanotubes mil110cr chromium terephthalate metalorganic framework span80mono9z9octadecenoate cunps copper nanoparticles gcfid gas chromatography with ﬂame ionization detectorceuv capillary electrophoresis with uv detector cedad capillary electrophoresis with diode arraydetector ffsswv fast fourier transform stripping square wave voltammetry sfftccv stripping fast fourier transform continuous cyclic voltammetry dpv differential pulse voltammetry fftswv fast fourier transformsquare wave voltammetry.w.a. khan et al.  journal of pharmaceutical analysis 10 2020 109e122instrumental techniquew.a. khan et al.  journal of pharmaceutical analysis 10 2020 109e122different slms and acceptor phases. a stainless steel electrode wasembedded in the middle plate dedicated for the ﬂow of samplesolution. stainless steel electrodes were also embedded in the twopmma plates dedicated for the two acceptor phases. based ondifferent slms drugs of different hydrophobicity were extractedinto two acceptor phases and analyzed with hplcuv 66.nhidalgo et al. introduced a newin another example romabiopolymeric membrane for eme of nsaids and acidic compounds.the chitosan biopolymeric membrane was synthesized by mixingchitosan 60 ww and aliquat336 40 ww. the synthesizedmembrane was characterized with scanning electron microscopysem. the prepared membrane was impregnated with a suitableorganic solvent and used as slm in a homemade device. after emethe acceptor phase was analyzed with hplcdad for quantitativeanalysis 67. table 2 summarizes examples on research combininghollow ﬁber based extraction techniques with hplc 66e109.4.2.2. gas chromatography gcgc has been coupled with twophase hflpme and eme foranalysis of neutral low and medium polar analytes. in two phasesystems the acceptor solution is the same organic solvent as usedfor impregnation of membrane. due to the fact that the acceptorphase is organic it can be injected directly in gc 109. an emespme technique were introduced by shamsayei et al. 110 for theextraction and determination of cyproheptadine and ketotifen. inthis work the surface of a stainless steel wire was electrochemicallydeposited with polypyrrole and manganese dioxide using cyclicvoltammetry. a segment of polypropylene membrane wasimpregnated with a suitable organic solvent and ﬁlled with wateras an acceptor phase. the prepared spme ﬁber electrochemicallyprepared stainless steel wire was introduced into the membraneand used as a cathode. the cathode comprising the slm and theacceptor solution was directed into donor solution. a platinumanode was directed into the sample solution. after eme the spmeﬁber was analyzed with gc 110.similarly tabani et al. presented a new approach to preconcentration and determination of basic drugs. an agarose geleme method was combined with dispersive liquideliquid microextraction dllme technique. for extraction of target analytes anagarosebased gel membrane was synthesized and used for eme.after eme acceptor phase was collected and mixed with 1 mmnaoh solution. dllme was carried out from this solution and theﬁnal organic extract was analyzed with gc 111. table 3 summarizes information on research combining hflpme and eme withgc 110e131.4.2.3. capillary electrophoresis cece is another analytical instrument which has frequently beencoupled with threephase hflpme and eme 30. to avoid bandbroadening destacking the ionic strength of the acceptor phaseshould not exceed the ionic strength of the ce separation bufferk et al. presented a new semiautomatedmeme tech132. dvoranique for extraction of drugs coupled with ce. a three phasedisposable microextraction unit was constructed in which a freeliquid membrane was sandwiched between acceptor and donorphases. all liquid samples acceptor phase flm and donor phasewere handled with a programmable syringe pump. after eme theacceptor phase was collected by switching the syringe pump toinfusion mode. the collected acceptor phase was quantitativelyanalyzed with ce 113. et al. investigated the effect of membrane thickness onrysavathe extraction efﬁciency in eme 123. three polypropylenemembranes with different thickness were used as slms for emepreconcentration of basic drugs. in this experiment it wasconcluded that the transfer of analytes across the membrane is119inversely proportional to the membrane thickness. recent studiesof eme and hflpme coupled with ce are mentioned in table 3113e124.4.2.4. voltammetryone of the most important and widely used electroanalyticaltechniques is voltammetry 133 and for quantiﬁcation of heavymetals anodic stripping voltammetry asv has been combinedwith hflpme. the major advantage of asv over other voltammetric techniques is the step of preconcentration onto the electrode surface 134. anodic stripping voltammetry has lowdetection limits high sensitivity and selectivity as compared toother electrochemical techniques. detection limits with anodicstripping voltammetry of heavy metals are in the ppm range 135.to the best of our knowledge 2017 to may2019 there is only oneresearch article on voltammetric instrumental technique forquantiﬁcation of heavy metals using hflpme or eme preconcentration. for pharmaceuticals several new approaches based onhollow ﬁber based techniques have been reported. in one examplehrdlicka et al. presented an hflpme method for extraction anddetermination of vanillylmandelic acid combined with dpv. in thisstudy a 20 mm polypropylene hollow ﬁber membrane was soakedin an organic solvent to impregnate the pores. the excess organicsolvent was removed by air with a syringe. the lumen of the ﬁberwas ﬁlled with acceptor phase and sealed in both ends. the prepared membrane was fully immersed in sample solution and stirred with a magnetic bar. after eme the acceptor phase wascollected and transferred to the surface of working electrode fordpv analysis 131.tahmasebi et al. reported a novel approach in eme for preconcentration and determination of propylthiouracil coupled withdpv. cunps were synthesized for selective extraction of propylthiouracil and coated on hollow ﬁber membrane. the coated cunpsincreased mass transfer and selectivity of propylthiouracil due tothe high selectivity of cunps toward thiol groupsulfhydryl compounds. the high afﬁnityselectivity of propylthiouracil towardscunps was explained by the hard and soft acidbase theory. it wasconcluded that nitrobenzene was the best choice for propylthiouracil extraction because alcoholic solvents such as 1octanol and2ethylhexanol dissolved cunps. it was pointed out that thisapproach was not applicable for acidic compounds 129. researchcombining hflpme and eme with voltammetry is summarized intable 3 125e131.5. conclusions and looking into the futuresince 1999 a larger number of reports have been published onthe development of hflpme. these efforts have documented hflpme as a green sample preparation technique requiring only afew microliters of organic solvent per sample. hflpme enableshigh enrichment and excellent sample cleanup from biological andenvironmental samples. in the threephase mode hflpme provides aqueous extracts which are directly injectable in hplc. due tothe protection of the acceptor phase by the slm hflpme isamenable to highly complex samples such as plasma whole bloodurine saliva breast milk tap water surface water pond waterseawater and soil slurries. hflpme shows great potential forroutine applications but to enter this area commercial productsand automation are required. also generic methods have to bedeveloped to simplify method development.eme has been developed in parallel to hflpme but eme is lessmature. although eme provides the same advantages as hflpmethe electrical ﬁeld open for additional perspectives. thus theextraction is controlled by an external electrical ﬁeld and selectivity may be tuned by the direction and magnitude of the electrical120w.a. khan et al.  journal of pharmaceutical analysis 10 2020 109e122ﬁeld by the chemical composition of the slm and by ph in sampleand acceptor phase.both hflpme and eme are highly efﬁcient for extraction ofheavy metals and pharmaceuticals. the techniques are compatiblewith a broad spectrum of chromatographic spectroscopic andelectroanalytical techniques. future work should focus on automation and commercialization. in addition the future may seeresearch on the use of green solvents and slms modiﬁed withmetal nanoparticles mnps and carbon nanotubes cnts whichmay increase the extraction efﬁciency of targeted analytes.conﬂicts of interestthe authors declare that there are no conﬂicts of interest.acknowledgmentsthis work was supported by the higher education commissionof pakistan nrpu no.20e3925rdnrpuhec2014 pakusscience and technology cooperation pakus no64pakushec201504 and pakistan science foundation joint research projectswith msrt iran no. psfmsrtenvkpawkum.',\n",
       " 'Pharmacological Options Beyond Proton Pump Inhibitors In Childrenwith Gastroesophageal Reflux Diseas': 'pharmacological treatment of gastroesophageal reflux ger disease is mostly based on acid control. howeverdifferent molecules have been proposed both for patients with persisting symptoms and to limit adverse effects ofproton pump inhibitors ppi. this paper focuses on other acid inhibitors alginate prokinetics drug acting on loweresophageal sphincter and esophageal hypersensitivity. mechanism of action indications efficacy limits and recentadvances are reported. pediatric data and possible adverse effects are also considered.keywords reflux ranitidine alginate prokinetics baclofenabbreviationsasic acidsensitive ion channels espghan european society forpaediatric gastroenterology hepatology and nutrition gaba γaminobutyric acid ger gastroesophageal reflux gerdgastroesophageal reflux disease naspghan north americansociety for pediatric gastroenterology hepatology and nutritionnice national institute for health and care excellence ppi protonpump inhibitors pcabs acidinhibitor acting on potassium ssrisserotonine selective reuptake inhibitors tlesrs transient loweresophageal sphincter relaxation trpv transient receptor potentialvanilloid.',\n",
       " 'Pegylation In Anti Cancer Therapy': 'article historyadvanced drug delivery systems using polyethylene glycol peg is an important develreceived 1 july 2015opment in anticancer therapy. pegylation has the ability to enhance the retention time ofreceived in revised form 20 augustthe therapeutics like proteins enzymes small molecular drugs liposomes and nanoparticles2015by protecting them against various degrading mechanisms active inside a tissue or cell whichaccepted 26 august 2015consequently improves their therapeutic potential. pegylation effectively alters the pharavailable online 14 september 2015macokinetics pk of a variety of drugs and dramatically improves the pharmaceutical valuesrecent development of which includes fabrication of stimulisensitive polymerssmart polykeywordspegpegylationtargeted drug deliverypolymers',\n",
       " 'Phytochemical Screening And Evaluation Of Analgesic And Thrombolytic Activity Of The Crude Methanoli': 'medicinal plants abound with many phytochemicals that are effective in representing lots of pharmacological activities. the current study aimed at investigating the phytochemical and pharmacological activity of crude methanol extract of calamus rotang l. crme leaves. the analgesic activity and thrombolytic activity were examined by the acetic acidinduced writhing method while the clot lysis effect was evaluated by an invitro thrombolytic method. from this study it is stated that the extract 400 200 mgkg reduced abdominal writhing by 31.06 and 44.33 for 200 mgkg and 400 mgkg respectively while the standard showed 58.57 of inhibition and increased the pain reaction time in mice when compared to that of the negative control group in tailimmersion test. the extract presented 16.2  1.75 of human blood clot lysis in the thrombolytic experiment. the presence of steroids saponins glycosides cardenolides flavonoids carbohydrates and reducing sugars might have an influence on the pharmacological activity of crme.',\n",
       " 'Multi Dimensional Visualization For The Morphology': 'article historythe shapes of particles and their distribution in tablets controlled by pretreatment andreceived 29 july 2018tableting process determine the pharmaceutical performance of excipient like lubricant.revised 18 november 2018this study aims to provide deeper insights to the relationship of the morphology and spaaccepted 10 january 2019tial distribution of stearic acid sa with the lubrication efficiency as well as the resultingavailable online 1 march 2019tablet property. unmodified sa particles as flat sheetlike particles were firstly reprocessedby emulsification in hot water to obtain the reprocessed sa particles with spherical mor',\n",
       " 'Redox Responsive Biocompatible Nanocarriers': 'article historyheparosan is a natural precursor of heparin biosynthesis in mammals. it is stable in bloodreceived 5 july 2018circulation but can be degraded in lysosomes showing good biocompatibility and long cirrevised 31 october 2018culation features. so heparosan can be designed as anticancer drug carriers to increaseaccepted 16 november 2018tumor selectivity and improve the therapeutic effect. a novel redoxsensitive heparosanavailable online 17 december 2018cystaminevitamin e succinate ksv micelle system was constructed for intracellular delivery of doxorubicin dox. simultaneously the redoxinsensitive heparosanadipic acidkeywordsdihydrazidevitamin e succinate copolymer kv was synthesized as control. doxloadedheparosanmicelles doxksv with an average particle size of 90120 nm had good serum stabilityvitamin e succinateand redoxtriggered depolymerization. in vitro drug release test showed that doxksv miredoxsensitive micellescelles presented obvious redoxtriggered release behavior compared with doxkv. cytotoxdrug deliveryicity and cell uptake were investigated using mgc803 tumor cells and cos7 fibroblastlikecells. the cell survival rate of blank micelles was more than 90 and the cytotoxicity ofdoxksv in mgc803 cells was higher than in cos7 cells indicating that the carrier hasbetter biocompatibility and less toxicity side effect. the cytotoxicity of doxksv againstmgc803 cells was significantly greater than that of free dox and doxkv. furthermorecompared with doxkv in mgc803 cells doxksv micelles uptook more anticancer drugsand then released dox faster into the cell nucleus. the micelles were endocytosed by multiple pathways but clathrinmediated endocytosis was the main pathway. therefore heparosan polysaccharide could be a potential option as anticancer carrier for enhancing efficacy and mitigating toxicity. 2019 published by elsevier b.v. on behalf of shenyang pharmaceutical university.this is an open access article under the cc byncnd license.httpcreativecommons.orglicensesbyncnd4.0corresponding author. jiangnan university no. 1800 lihu road wuxi 214122 china. tel. 86 510 85329042.email address chenjinghuajiangnan.edu.cn j.h. chen.these authors contributed equally to this work.peer review under responsibility of shenyang pharmaceutical university.httpsdoi.org10.1016j.ajps.2018.11.00518180876 2019 published by elsevier b.v. on behalf of shenyang pharmaceutical university. this is an open access article under thecc byncnd license. httpcreativecommons.orglicensesbyncnd4.0',\n",
       " 'Recent Advances And Perspectives Of Nucleic Acid': 'article historyreceived 23 february 2020received in revised form27 february 2020accepted 27 february 2020available online 1 march 2020the recent pneumonia outbreak caused by a novel coronavirus sarscov2 is posing a great threat toglobal public health. therefore rapid and accurate identiﬁcation of pathogenic viruses plays a vital role inselecting appropriate treatments saving peoples lives and preventing epidemics. it is important toestablish a quick standard diagnostic test for the detection of the infectious disease covid19 toprevent subsequent secondary spread. polymerase chain reaction pcr is regarded as a gold standardtest for the molecular diagnosis of viral and bacterial infections with high sensitivity and speciﬁcity.isothermal nucleic acid ampliﬁcation is considered to be a highly promising candidate method due to itsfundamental advantage in quick procedure time at constant temperature without thermocycler operation. a variety of improved or new approaches also have been developed. this review summarizes thecurrently available detection methods for coronavirus nucleic acid. it is anticipated that this will assistresearchers and clinicians in developing better techniques for timely and effective detection of coronavirus infection. 2020 xian jiaotong university. production and hosting by elsevier b.v. this is an open access articleunder the cc byncnd license httpcreativecommons.orglicensesbyncnd4.0.',\n",
       " 'A Comprehensive Review Article On Isoprostanes As Biological Markers': 'various obsessive procedures include free radical intervened oxidative anxiety. the elaboration of solid and nonintrusive strategies for the assessment of oxidative worry in human body is a standout amongst the most critical stridestowards perceiving the assortment of oxidative disorders apparently created by reactive oxygen species ros. lipidperoxidation is a standout amongst the most wellknown components related with oxidative anxiety and the estimationof lipid peroxidation items has been utilized to assess oxidative worry in vivo conditions. the estimation of conjugateddienes and lipid hydro peroxide while the evaluation of optional final results incorporates thiobarbituric acid reactivesubstances vaporous alkanes and prostaglandin f2like items named f2isoprostanes f2ips. as of late f2ipshave been viewed as the most significant precise and solid marker of oxidative worry in vivo and their evaluation issuggested for surveying oxidant wounds in people. the motivation behind this paper is to give some data on organicchemistry of isoprostanes and their use as a marker of oxidative anxiety.',\n",
       " 'Molecular Pharmaceuticals': 'molecular pharmaceutics a vision for the futurethe biomedical and pharmaceutical community is buzzingwith excitement about the potential novel therapies resultingfrom the genomic revolution bioinformatics stem cellresearch cloning chemical biology molecular and cellbiology and the basic and clinical implications of pharmacogenomics and pharmacogenetics. if the promises andexpectations hold the researchers in the pharmaceutical fieldwill have in the foreseeable future more therapeutic targetsthan we could have possibly imagined just 10 years agoand have multiple redundant strategies for identifying anddeveloping drug candidates. the nature of therapeutic agentsand delivery strategies that will emerge from all theseenterprises will probably keep changing and is likely to bedifferent from what we have seen in the past. in many caseswe will undoubtedly have good ideas regarding their pharmacologic mechanisms upon inception as well as specificlocations of action and their therapeutic concentrations. thesechanges often viewed as revolutionary and labeled as suchcertainly give us high hopes for the future. would theyhowever necessarily translate into more and better drugproducts and therapeutic modalities there is one thing thatis clearly changing these developments pose a tremendouschallenge to pharmaceutics or drug delivery and at thesame time provide accompanying opportunities.a majority of researchers in modern biomedical researchand in cell and molecular biology in particular often focustheir thinking and efforts primarily on discoveries of socalledbasic mechanisms while their share of active contributionsto drug development beyond that point tends to abate. tomany when certain therapeutic molecules exhibit goodspecific activities at relatively low concentrations in a testtube or a cell culture system they magically become drugsthrough a long yet mysterious process until they materializein the clinical setting. it is not entirely clear where thisattitude originates but we still have the inclination especiallyin the academic and basic science community not to soilour pure scientific hands with applicationoriented pharmaceutical drug product development. this i tend to believeis primarily due to the misconception about the science ofpharmaceutics. perhaps the black box of the drug productdevelopment process which certainly includes pharmaceutics has been viewed until relatively recently as being toomuch like engineering in nature and requiring little mechanismbased science.with the first two issues of molecular pharmaceutics onecannot help but appreciate the salient pharmaceutics orpharmaceutical sciences the discipline that focuses ontransforming the drug to a clinically viable therapeuticdrug product is indeed multidisciplinary and will becomeincreasingly so. even after refinement by the addition of thedescriptive term molecular to the name the range of researcharticles already seen in this journal derive from a multitudeof scientific disciplines. with the molecular and mechanisticemphasis drug delivery and pharmaceutics have beenchanging conceptually from a rather descriptive science intoa logical and mechanismbased science that demands amolecular explanation of how the process works. thepressure is now on the pharmaceutical scientists during thecourse of this evolution and revolution to incorporate intopharmaceutical research the rapidly expanding body ofknowledge in the molecular and cellular fields rather thanto focus exclusively in the traditional sense on formulatinga delivery strategy for a given drug candidate even with thesacrifice of the molecular understanding of the design. thiswill undoubtedly force us into more intimate and successfulcollaboration with a wide range of scientific fields whichinevitably requires educating scientists from all relevantdisciplines about the everevolving needs and concepts ofmolecular pharmaceutics. like other fields in sciencepharmaceutical sciences is truly multidisciplinary and molecular pharmaceutics will be less apt to evolve and progresswithout collaborative efforts from a wide range of scientificdisciplines.the editorial office and board of molecular pharmaceuticsare pleased with the recognition of the enormous potentialof the role provided by this particular forum in meeting theneeds of the molecular revolution in pharmaceutics. it is safeto say that we can be excited and optimistic about the futureof molecular pharmaceutics.kyungdall lee',\n",
       " 'Real Time Calorimetric Characterisation Of Clay Drug Complex Dispersions And Particles': 'isothermal titration calorimetry itc along with attenuated total reflectance fourier transform infrared spectroscopy atrftir scanning electron microscopy with energy dispersive xray spectroscopy semedx andhighperformance liquid chromatography hplc were employed to investigate the process of adsorption ofpropranolol hydrochloride ppn onto magnesium aluminium silicate mas and to characterise the masppnparticles formed upon complexation. the composition of mas was confirmed by infrared ir spectroscopy and acalcimeter. the calorimetric results confirmed the binding between ppn and mas at various phs and temperatures. the overall change in enthalpy was found to be exothermic with a comparatively small entropiccontribution to the total change in gibbs free energy. these findings suggest that the binding process wasenthalpically driven and entropically unfavourable lower affinity suggesting hydrogen bonding and electrostatic interactions dominating the interaction. the variation of ph and temperature did not have a great impacton the thermodynamics of the binding process as observed from the similarity in enthalpy δh entropy δs orgibbs free energy δg. a slight reduction in the binding affinity ka with varing ph and temperature washowever observed. semedx studies showed the occurrence of changes in the microstructural properties of masfollowing complexation which may explain the potential of masppn complexes for controlled drug releasepromoting pharmaceutical innovation.'}"
      ]
     },
     "execution_count": 3,
     "metadata": {},
     "output_type": "execute_result"
    }
   ],
   "source": [
    "abstracts"
   ]
  },
  {
   "cell_type": "markdown",
   "metadata": {},
   "source": [
    " ⠀"
   ]
  },
  {
   "cell_type": "markdown",
   "metadata": {},
   "source": [
    "# Preprocess Abstracts"
   ]
  },
  {
   "cell_type": "markdown",
   "metadata": {},
   "source": [
    "### Import Required Libraries"
   ]
  },
  {
   "cell_type": "code",
   "execution_count": 4,
   "metadata": {},
   "outputs": [],
   "source": [
    "# numpy imports\n",
    "import numpy as np\n",
    "from numpy import dot\n",
    "from numpy.linalg import norm\n",
    "\n",
    "# nltk imports\n",
    "import nltk\n",
    "from nltk import punkt\n",
    "from nltk.corpus import stopwords \n",
    "from nltk.tokenize import word_tokenize\n",
    "\n",
    "# punctuation list\n",
    "puncs=\"!#$%&'()*+,-./:;<=>?@[\\]^_`{|}~\""
   ]
  },
  {
   "cell_type": "markdown",
   "metadata": {},
   "source": [
    "### Remove Punctuations and Stopwords from Abstracts"
   ]
  },
  {
   "cell_type": "code",
   "execution_count": 5,
   "metadata": {},
   "outputs": [],
   "source": [
    "stop_words = set(stopwords.words('english')) "
   ]
  },
  {
   "cell_type": "code",
   "execution_count": 6,
   "metadata": {
    "scrolled": false
   },
   "outputs": [
    {
     "name": "stdout",
     "output_type": "stream",
     "text": [
      "Regorafenib Loaded Poly  Lactide Co Glycolide  Microspheres \n",
      "\n",
      "Asymptomatic Carrier State  Acute Respiratory Disease \n",
      "\n",
      "Phospolipids And Application \n",
      "\n",
      "Deamidation In Moxetumomab Pasudotox Leading To Conformational Change And Immunotoxin Activity Loss \n",
      "\n",
      "Assembling Structurally Customizable Synthetic Carriers \n",
      "\n",
      "Molecular Immune Pathogenesis And Diagnosis Of Covid 19 \n",
      "\n",
      "Redox Sensitive  Peg Shielded Carboxymethyl Pei \n",
      "\n",
      "Development Of Muco Adhesive Orally Disintegrating Tablets Containing Tamarind Gum Coated Tea Powder \n",
      "\n",
      "Anti Toxoplasma Gondii Activity Of 5 Oxo Hexahydroquinoline Derivatives   Synthesis, In Vitro And In Vivo Evaluations, And Molecular Docking Analysis \n",
      "\n",
      "The Effect Of Pramlintide, An Antidiabetic Amylin Analogue On Angiogenesis Related Markers In Vitro \n",
      "\n",
      "Pharmaceutical Care In A Patient With Recurrent Infection After Liver Transplant \n",
      "\n",
      "Nanotechnology And Vaccine Development \n",
      "\n",
      "Hollow Fiber Based Liquid Phase Microextraction \n",
      "\n",
      "Pharmacological Options Beyond Proton Pump Inhibitors In Childrenwith Gastroesophageal Reflux Diseas \n",
      "\n",
      "Pegylation In Anti Cancer Therapy \n",
      "\n",
      "Phytochemical Screening And Evaluation Of Analgesic And Thrombolytic Activity Of The Crude Methanoli \n",
      "\n",
      "Multi Dimensional Visualization For The Morphology \n",
      "\n",
      "Redox Responsive Biocompatible Nanocarriers \n",
      "\n",
      "Recent Advances And Perspectives Of Nucleic Acid \n",
      "\n",
      "A Comprehensive Review Article On Isoprostanes As Biological Markers \n",
      "\n",
      "Molecular Pharmaceuticals \n",
      "\n",
      "Real Time Calorimetric Characterisation Of Clay Drug Complex Dispersions And Particles \n",
      "\n"
     ]
    }
   ],
   "source": [
    "abstract_filtered = dict()\n",
    "\n",
    "for key, abstract in abstracts.items():\n",
    "  temp_list = []\n",
    "  print(key,\"\\n\")\n",
    "  for word in word_tokenize(abstract):\n",
    "    if word not in stop_words:\n",
    "      if word not in puncs:\n",
    "        temp_list.append(word)\n",
    "  abstract_filtered[key] = temp_list"
   ]
  },
  {
   "cell_type": "markdown",
   "metadata": {},
   "source": [
    " ⠀"
   ]
  },
  {
   "cell_type": "markdown",
   "metadata": {},
   "source": [
    "# Word2Vec Search"
   ]
  },
  {
   "cell_type": "markdown",
   "metadata": {},
   "source": [
    "### Import Required Libraries"
   ]
  },
  {
   "cell_type": "code",
   "execution_count": 7,
   "metadata": {
    "colab": {},
    "colab_type": "code",
    "id": "mDOqUp0itn9a"
   },
   "outputs": [],
   "source": [
    "from gensim.models import Word2Vec\n",
    "from gensim.test.utils import common_texts, get_tmpfile\n",
    "import gensim.downloader as api\n",
    "from pprint import pprint"
   ]
  },
  {
   "cell_type": "markdown",
   "metadata": {},
   "source": [
    "### Load Model from Memory"
   ]
  },
  {
   "cell_type": "code",
   "execution_count": 8,
   "metadata": {
    "colab": {
     "base_uri": "https://localhost:8080/",
     "height": 89
    },
    "colab_type": "code",
    "id": "TvLJv8McuoIH",
    "outputId": "a6a6e102-6993-4764-9619-c3bf8ce59e5b"
   },
   "outputs": [],
   "source": [
    "model = api.load(\"glove-twitter-50\")"
   ]
  },
  {
   "cell_type": "markdown",
   "metadata": {},
   "source": [
    "### Convert Abstracts to Vectors"
   ]
  },
  {
   "cell_type": "code",
   "execution_count": 9,
   "metadata": {
    "colab": {},
    "colab_type": "code",
    "id": "Yo_Yzhs2Becw"
   },
   "outputs": [
    {
     "data": {
      "text/plain": [
       "{'Regorafenib Loaded Poly  Lactide Co Glycolide  Microspheres': array([-0.12479275,  0.17013659, -0.25284041,  0.07199952,  0.11043473,\n",
       "         0.04493812,  0.10610927, -0.36099259, -0.09909542, -0.29467104,\n",
       "        -0.03400764, -0.33096792, -1.50815028,  0.12759448,  0.24886575,\n",
       "         0.13988896,  0.13908802, -0.08152196,  0.13063436, -0.21846889,\n",
       "        -0.08374892,  0.15320835,  0.01138815, -0.02396688, -0.20624868,\n",
       "         0.55014025,  0.0260206 ,  0.13125911, -0.09416927,  0.37362843,\n",
       "         0.17869767, -0.18835398,  0.1152775 , -0.1499756 ,  0.15868358,\n",
       "        -0.12736281, -0.15712371,  0.25324392,  0.00533474, -0.05771021,\n",
       "         0.17947104, -0.01338884,  0.11007594, -0.03567727, -0.02510219,\n",
       "        -0.14890528, -0.0126895 ,  0.18132062, -0.16524269,  0.14843898]),\n",
       " 'Asymptomatic Carrier State  Acute Respiratory Disease': array([-0.08006624,  0.31573784, -0.39160539,  0.0543032 ,  0.052363  ,\n",
       "         0.00500647,  0.15511289, -0.30982707, -0.07494067, -0.45312202,\n",
       "         0.16060416, -0.49961671, -2.0485674 ,  0.30906537,  0.48297526,\n",
       "         0.17195335,  0.23226657, -0.0708158 ,  0.28697769, -0.34424617,\n",
       "        -0.12871662,  0.04088783, -0.05044541, -0.17799113, -0.14221264,\n",
       "         0.77587466, -0.06444713,  0.17718035, -0.13090972,  0.40939128,\n",
       "         0.09831909, -0.38269373,  0.03595118, -0.10164095,  0.19279792,\n",
       "        -0.2229239 , -0.38319282,  0.37430186, -0.03695108, -0.32461311,\n",
       "         0.10923793, -0.14664868,  0.27647155,  0.0333349 ,  0.12843457,\n",
       "        -0.26159464,  0.01349503,  0.18235872, -0.21460165,  0.18455931]),\n",
       " 'Phospolipids And Application': array([ 8.71673108e-02,  1.71418198e-01, -3.70287123e-01,  5.15758103e-02,\n",
       "         3.68393135e-01,  4.47504257e-02,  2.59731937e-01, -3.37273944e-01,\n",
       "         1.73299273e-01, -3.74919823e-01, -1.66596040e-02, -4.72947487e-02,\n",
       "        -1.59839589e+00,  2.04267610e-01,  3.26607155e-01,  5.45605634e-02,\n",
       "         2.64251030e-01,  1.05375293e-01,  1.03150281e-01, -4.18400080e-02,\n",
       "        -1.86497088e-01, -1.37569212e-01, -1.18015707e-01, -1.69127156e-01,\n",
       "        -2.70289686e-01,  4.91350256e-01,  1.04985437e-01,  9.34665309e-02,\n",
       "         1.47297612e-02,  4.55779838e-04,  2.23914976e-01, -2.04159351e-01,\n",
       "        -1.29503957e-01, -1.94898053e-01,  4.03304598e-01, -2.58297058e-01,\n",
       "        -5.41997106e-02,  2.88563743e-01,  2.05483295e-01, -1.64481073e-01,\n",
       "         8.59541570e-03,  1.62300708e-01,  1.43791976e-02,  2.17597592e-02,\n",
       "         4.46535777e-02, -2.23441609e-01, -1.08398958e-01,  7.79363037e-02,\n",
       "        -2.57631339e-01,  8.76074429e-02]),\n",
       " 'Deamidation In Moxetumomab Pasudotox Leading To Conformational Change And Immunotoxin Activity Loss': array([ 0.01777063,  0.16538371, -0.22274882,  0.02873678,  0.22080375,\n",
       "         0.09951422,  0.233894  , -0.32743273,  0.04186893, -0.22815208,\n",
       "        -0.04590943, -0.14467625, -1.48832053,  0.10870879,  0.13567914,\n",
       "         0.01409524,  0.20392848,  0.06267357,  0.12619041, -0.03080406,\n",
       "        -0.18599044, -0.0268458 , -0.00648421, -0.07980638, -0.17976649,\n",
       "         0.4107618 ,  0.0590936 ,  0.0912382 , -0.00485364,  0.14104142,\n",
       "         0.15669815, -0.16589456,  0.02687645, -0.2131744 ,  0.26880076,\n",
       "        -0.11997282, -0.0658954 ,  0.15976062,  0.13389423, -0.1498286 ,\n",
       "         0.06264132,  0.0260023 ,  0.12806732, -0.07665569,  0.0674624 ,\n",
       "        -0.16438286, -0.0783384 ,  0.03322711, -0.15172496,  0.05826404]),\n",
       " 'Assembling Structurally Customizable Synthetic Carriers': array([-0.2496545 ,  0.01965108, -0.1675636 ,  0.0978066 ,  0.17877713,\n",
       "         0.12552964, -0.08173715, -0.42274749,  0.07077859, -0.31138728,\n",
       "        -0.04385194, -0.11502634, -1.30679618,  0.10462326,  0.16283594,\n",
       "        -0.14213049,  0.27558968, -0.02771001,  0.22923581, -0.01216338,\n",
       "        -0.1491879 ,  0.01407626,  0.00856608, -0.22042858, -0.40217491,\n",
       "         0.44795562, -0.18909844,  0.06490126, -0.02572251,  0.21740411,\n",
       "         0.22322275, -0.02468091,  0.11950672, -0.30552464,  0.16344637,\n",
       "        -0.14744719, -0.13557793,  0.28039232,  0.131788  , -0.09499053,\n",
       "         0.18528496,  0.10688706,  0.20922951, -0.21244998,  0.01987113,\n",
       "        -0.18571452, -0.10395019,  0.1660583 , -0.10613832,  0.10786847]),\n",
       " 'Molecular Immune Pathogenesis And Diagnosis Of Covid 19': array([-6.50955851e-02,  2.04953196e-01, -3.93789876e-01,  9.96823954e-02,\n",
       "         2.10031387e-01,  3.25183152e-02,  1.74623144e-01, -4.02969148e-01,\n",
       "        -1.17091845e-01, -3.30122728e-01,  7.86656495e-02, -3.43314673e-01,\n",
       "        -1.62570370e+00,  1.39748645e-01,  3.45491799e-01,  5.12591026e-02,\n",
       "         3.36802722e-01,  1.59951367e-01,  2.77532214e-01, -1.90332071e-01,\n",
       "        -2.15911874e-01,  1.73557729e-01, -1.00400900e-01, -1.78436192e-01,\n",
       "        -1.42914830e-01,  6.01661643e-01, -6.22035694e-02,  1.50863771e-01,\n",
       "        -1.09242400e-01,  3.66563531e-01, -6.31289922e-03, -3.96423814e-01,\n",
       "         6.31998585e-02, -2.24925237e-01,  1.55254900e-01, -1.41692673e-01,\n",
       "        -1.71025561e-01,  2.32839041e-01,  1.70286026e-01, -2.69363245e-01,\n",
       "         3.25111001e-02, -1.88665311e-01,  2.60625755e-01,  1.86417008e-02,\n",
       "         3.41126137e-02, -1.54916349e-01,  5.66796267e-04,  7.84101705e-02,\n",
       "        -1.50060754e-01,  3.19345997e-02]),\n",
       " 'Redox Sensitive  Peg Shielded Carboxymethyl Pei': array([-0.20532264,  0.0818781 , -0.16010661,  0.06134616,  0.13151198,\n",
       "         0.02876365,  0.01084249, -0.24501967,  0.10166049, -0.23510441,\n",
       "        -0.0382825 , -0.03461219, -0.93217191,  0.11350698,  0.0907922 ,\n",
       "        -0.1245992 ,  0.2882191 , -0.07430257,  0.13183253,  0.07429376,\n",
       "        -0.25123186, -0.00847771,  0.06786215, -0.13243547, -0.19899219,\n",
       "         0.36646422, -0.03631647,  0.16147777, -0.0351121 ,  0.24161476,\n",
       "         0.22920612,  0.02260184,  0.02695881, -0.26164578,  0.06117359,\n",
       "        -0.21987218, -0.12722592,  0.23061757,  0.10664953, -0.06598415,\n",
       "         0.15897414, -0.01594574,  0.0084823 , -0.09820377, -0.02482494,\n",
       "        -0.1729758 , -0.13000514,  0.01250433, -0.00526307,  0.01657435]),\n",
       " 'Development Of Muco Adhesive Orally Disintegrating Tablets Containing Tamarind Gum Coated Tea Powder': array([-1.13555738e-01,  2.97003889e-02, -7.94994439e-02,  8.38087935e-02,\n",
       "         1.16238012e-01,  1.61574319e-01,  2.95671041e-02, -3.56319646e-01,\n",
       "        -1.77221695e-02, -1.85548510e-01, -1.44221492e-02, -1.48043097e-01,\n",
       "        -1.42095827e+00,  1.04530837e-01,  8.00283657e-02,  3.11192378e-02,\n",
       "         2.64759023e-01, -3.20601402e-02,  1.64962758e-01, -3.83241063e-02,\n",
       "        -2.28235530e-01,  4.99155912e-04,  1.50986193e-01, -7.16514796e-02,\n",
       "        -9.17583328e-02,  2.98464659e-01, -4.13134051e-02,  8.15656798e-02,\n",
       "        -4.66952740e-03,  2.20566680e-01,  2.28173089e-01, -2.78833075e-02,\n",
       "         2.49672967e-02, -1.97092646e-01,  1.44741448e-01, -1.31392099e-01,\n",
       "        -1.15081994e-01,  1.50799164e-01,  8.86931162e-02,  2.91724116e-02,\n",
       "         3.32831317e-02, -8.61413082e-03, -1.03234547e-01, -1.19524211e-01,\n",
       "         7.41288960e-02, -1.79026178e-01, -3.64734574e-02,  6.26028244e-02,\n",
       "        -6.44241024e-02,  8.41186202e-02]),\n",
       " 'Anti Toxoplasma Gondii Activity Of 5 Oxo Hexahydroquinoline Derivatives   Synthesis, In Vitro And In Vivo Evaluations, And Molecular Docking Analysis': array([-0.05503076,  0.1249905 , -0.22432524,  0.06858991,  0.19194362,\n",
       "         0.14872931,  0.10595194, -0.40438187, -0.03971215, -0.24337641,\n",
       "        -0.02230956, -0.17649317, -1.42016709,  0.21187625,  0.19177778,\n",
       "        -0.05124463,  0.29067   , -0.02119272,  0.18491723, -0.13233592,\n",
       "        -0.041043  ,  0.14112937,  0.03400225, -0.07573927, -0.28919815,\n",
       "         0.44587175,  0.01220709,  0.21608941, -0.00461392,  0.29363082,\n",
       "         0.25524896, -0.09360278,  0.11209233, -0.19243758,  0.05860357,\n",
       "        -0.22010036, -0.06479571,  0.19160388,  0.08741564, -0.10127408,\n",
       "         0.27355779, -0.03545236,  0.07651556, -0.17350862,  0.01976018,\n",
       "        -0.17141896, -0.1017673 ,  0.1588188 , -0.11167965, -0.03455446]),\n",
       " 'The Effect Of Pramlintide, An Antidiabetic Amylin Analogue On Angiogenesis Related Markers In Vitro': array([-0.17797467,  0.10739136, -0.16538736,  0.03651955,  0.25762517,\n",
       "         0.0875066 ,  0.1552447 , -0.34894383, -0.03734699, -0.29928702,\n",
       "         0.04058491, -0.17905468, -1.37021719,  0.21938998,  0.16079868,\n",
       "         0.0819545 ,  0.25686722,  0.05454965,  0.19759966, -0.15723025,\n",
       "        -0.22731368,  0.10722236,  0.11934873, -0.02905361, -0.21376663,\n",
       "         0.53168699, -0.0235792 ,  0.24306858, -0.05613184,  0.31672237,\n",
       "         0.28621909, -0.17778729,  0.11165872, -0.38490075,  0.20964635,\n",
       "        -0.17831691, -0.15505616,  0.23608038,  0.09826702, -0.21501157,\n",
       "         0.28826706, -0.02197612,  0.12080866, -0.04832812, -0.02501174,\n",
       "        -0.14624074, -0.09426686,  0.17612663, -0.13041829, -0.02607502]),\n",
       " 'Pharmaceutical Care In A Patient With Recurrent Infection After Liver Transplant': array([-2.03275301e-01,  2.57021257e-01, -6.22850742e-01,  1.68192424e-02,\n",
       "         2.64367569e-02, -2.61911026e-02,  1.91390543e-01, -4.66520741e-01,\n",
       "         9.00124140e-02, -3.06995984e-01,  4.55316438e-02, -4.24363847e-01,\n",
       "        -1.97625070e+00,  2.06898479e-01,  4.70011555e-01,  1.67439715e-01,\n",
       "         2.26010143e-01, -1.40208328e-01,  1.94740613e-01, -2.61940771e-01,\n",
       "        -3.08858428e-01,  3.67347872e-01,  1.18589054e-01,  7.71738883e-02,\n",
       "        -3.82116996e-02,  7.73235710e-01, -5.30678398e-03,  2.91156375e-01,\n",
       "        -9.04002841e-02,  4.69033305e-01,  1.39664987e-01, -2.01189698e-01,\n",
       "        -7.63425588e-03, -1.89302698e-01,  8.34500153e-02, -1.78912039e-01,\n",
       "        -1.99149125e-01,  3.23899886e-01, -5.70823406e-02, -6.12205149e-02,\n",
       "         2.42033511e-01, -6.29534828e-02,  1.45779997e-01, -4.72466006e-02,\n",
       "         2.54736186e-01, -2.65679983e-01,  5.73801023e-02,  3.08675471e-01,\n",
       "        -1.05343199e-01, -8.57770230e-04]),\n",
       " 'Nanotechnology And Vaccine Development': array([ 0.06719596,  0.18039428, -0.27882608,  0.10727318,  0.26510054,\n",
       "         0.11579817,  0.22890366, -0.40004671,  0.03030281, -0.38834638,\n",
       "         0.02391169, -0.18607405, -1.52320216,  0.17841388,  0.25265752,\n",
       "         0.04298531,  0.21452574,  0.07923408,  0.21514174, -0.13264522,\n",
       "        -0.19902191, -0.01111652, -0.062337  , -0.03576698, -0.28403316,\n",
       "         0.53957964,  0.03304974,  0.20298368, -0.03475053,  0.19638714,\n",
       "         0.22433692, -0.20636523,  0.01264071, -0.19777518,  0.32178091,\n",
       "        -0.16709638, -0.04799602,  0.23867652,  0.0830219 , -0.08250764,\n",
       "         0.16406624,  0.1585257 ,  0.13480118, -0.07257881,  0.01991867,\n",
       "        -0.1998375 , -0.15864543,  0.11514161, -0.19060286,  0.08983806]),\n",
       " 'Hollow Fiber Based Liquid Phase Microextraction': array([-0.1239916 ,  0.01913062, -0.1299625 ,  0.06820049,  0.23126673,\n",
       "         0.13830923,  0.0991311 , -0.32385882,  0.0296179 , -0.23165342,\n",
       "        -0.04532212, -0.10971434, -1.35281974,  0.08202299,  0.1719125 ,\n",
       "        -0.0107162 ,  0.282537  ,  0.05603913,  0.10813886,  0.01506254,\n",
       "        -0.2053206 , -0.00526841,  0.09745036, -0.10056838, -0.17674859,\n",
       "         0.3593825 , -0.02758606,  0.15631921, -0.05430417,  0.23208338,\n",
       "         0.24465399, -0.07054469,  0.04275856, -0.23374473,  0.21039541,\n",
       "        -0.1416917 , -0.10931138,  0.17844254,  0.12223566, -0.02032018,\n",
       "         0.07630275,  0.04941924,  0.02130565, -0.08512821, -0.01757642,\n",
       "        -0.15573233, -0.03887361,  0.10149324, -0.04417836,  0.03009173]),\n",
       " 'Pharmacological Options Beyond Proton Pump Inhibitors In Childrenwith Gastroesophageal Reflux Diseas': array([-1.44913992e-01,  2.36792998e-01, -3.53825025e-01,  3.99646858e-02,\n",
       "         1.12570026e-01,  1.48027029e-01,  1.37358200e-01, -3.89765749e-01,\n",
       "        -1.54052394e-02, -2.56227956e-01, -6.77871907e-02, -2.36996847e-01,\n",
       "        -1.26139277e+00,  1.79261642e-01,  3.54108635e-01, -1.11555300e-01,\n",
       "         2.69846265e-01, -3.15536864e-03,  2.84866408e-01, -1.24276600e-01,\n",
       "        -3.04706878e-01,  1.75280253e-01,  5.07027157e-02, -2.54490639e-02,\n",
       "        -6.20733688e-02,  6.02487048e-01,  1.09359038e-01,  3.46552209e-01,\n",
       "        -2.00287294e-01,  3.28476896e-01,  1.56992459e-01, -2.72740233e-01,\n",
       "         1.04583820e-01, -1.98657558e-01, -6.20039703e-04, -2.06865722e-01,\n",
       "        -2.21231400e-01,  3.04974457e-01,  1.12004774e-01, -1.16471829e-01,\n",
       "         1.57115819e-01, -2.67326546e-02,  3.44625796e-02, -3.76292586e-02,\n",
       "        -3.72797899e-03, -1.99280248e-01, -5.80591383e-02,  1.99176656e-01,\n",
       "        -8.28666023e-02,  1.36586479e-03]),\n",
       " 'Pegylation In Anti Cancer Therapy': array([-0.08409819,  0.10324492, -0.26459692,  0.0693786 ,  0.23625204,\n",
       "         0.25656456,  0.2127163 , -0.32578781,  0.03366934, -0.34160592,\n",
       "        -0.04944334, -0.15768   , -1.60783247,  0.19326261,  0.22477127,\n",
       "         0.04556969,  0.32027237, -0.04933066,  0.19727528, -0.16503302,\n",
       "        -0.23019604,  0.05644055,  0.047814  ,  0.02422515, -0.26752769,\n",
       "         0.53255096,  0.09044677,  0.20176288,  0.01112505,  0.19919452,\n",
       "         0.1429127 , -0.20927764, -0.10277282, -0.1989903 ,  0.19961935,\n",
       "        -0.34299414, -0.03413189,  0.27072557,  0.15028319, -0.15791809,\n",
       "         0.06668197,  0.11655678, -0.07339116, -0.15531664,  0.08324364,\n",
       "        -0.22304377, -0.0658235 ,  0.18300862, -0.24710814,  0.03436157]),\n",
       " 'Phytochemical Screening And Evaluation Of Analgesic And Thrombolytic Activity Of The Crude Methanoli': array([-0.08482201,  0.06538267, -0.1196663 , -0.03594956,  0.17312948,\n",
       "         0.26050964,  0.11830892, -0.38927065, -0.04832638, -0.25358579,\n",
       "        -0.0294679 , -0.2560925 , -1.55236165,  0.21151816,  0.16343384,\n",
       "         0.07965978,  0.3486299 , -0.0691095 ,  0.25406816, -0.20326744,\n",
       "        -0.19677373,  0.08383344,  0.04994786, -0.01161164, -0.26130643,\n",
       "         0.50733959,  0.02349296,  0.15569342, -0.08749273,  0.28906923,\n",
       "         0.22199684, -0.07820107, -0.03348298, -0.08592292,  0.07516456,\n",
       "        -0.1967531 , -0.13353566,  0.26323687,  0.15841349, -0.18403065,\n",
       "         0.2364896 , -0.06959074,  0.07205651, -0.1373726 ,  0.09254523,\n",
       "        -0.09946392, -0.05304918,  0.19798456, -0.2054073 ,  0.0203881 ]),\n",
       " 'Multi Dimensional Visualization For The Morphology': array([-2.17703522e-02,  3.35207631e-02, -1.57142241e-01,  3.91148623e-02,\n",
       "         2.20915095e-01,  1.79898167e-01,  2.58349303e-01, -3.10248696e-01,\n",
       "         5.33620581e-02, -1.60180871e-01, -1.00606766e-01, -1.58676938e-01,\n",
       "        -1.64796961e+00,  1.84297930e-01,  1.16689620e-01,  5.36323367e-02,\n",
       "         1.41268305e-01,  9.05066298e-02,  8.78732880e-02, -2.26639581e-02,\n",
       "        -2.39415539e-01, -8.21260774e-02,  1.49776369e-02,  6.02760956e-02,\n",
       "        -2.39541926e-01,  3.05863786e-01, -8.00158479e-03,  1.36953939e-01,\n",
       "         4.51994253e-02,  1.36589145e-01,  2.83371354e-01, -1.34965413e-01,\n",
       "        -4.98347737e-02, -2.29605571e-01,  2.65990744e-01, -1.93317601e-01,\n",
       "        -6.86153202e-02,  2.62161205e-01,  1.28982556e-01, -6.72974542e-02,\n",
       "         1.25811824e-02,  2.68745656e-02, -3.72128186e-02, -1.22239871e-02,\n",
       "        -1.10957772e-05, -1.27669623e-01, -1.18776874e-01,  1.43377700e-01,\n",
       "        -8.88899053e-02,  2.39601700e-01]),\n",
       " 'Redox Responsive Biocompatible Nanocarriers': array([-0.06217423,  0.1190607 , -0.14076155,  0.00922084,  0.13929896,\n",
       "         0.02535699,  0.15144049, -0.24817967,  0.04211701, -0.22706548,\n",
       "         0.01408522, -0.12528992, -1.36425078,  0.07987604,  0.1548327 ,\n",
       "        -0.04176317,  0.17967536,  0.08341063,  0.14072056, -0.02213204,\n",
       "        -0.12728459, -0.04905932, -0.00932711, -0.08981986, -0.15863467,\n",
       "         0.36324989,  0.02723081,  0.05574986, -0.00889562,  0.21366597,\n",
       "         0.17643174, -0.13451445,  0.00519441, -0.1577209 ,  0.22443824,\n",
       "        -0.17067289, -0.05693965,  0.17252799,  0.05528758, -0.14835569,\n",
       "         0.02770199,  0.08638278,  0.05603313, -0.02964102,  0.02200841,\n",
       "        -0.11849096, -0.05367693,  0.06927912, -0.15026603,  0.09690021]),\n",
       " 'Recent Advances And Perspectives Of Nucleic Acid': array([-0.03836057,  0.1462102 , -0.29763878, -0.01602247,  0.28173189,\n",
       "         0.10544046,  0.34654071, -0.37182515, -0.05579391, -0.31608652,\n",
       "         0.0360151 , -0.26217803, -1.84092894,  0.18214992,  0.19910836,\n",
       "         0.03827279,  0.27702328,  0.09261477,  0.15939945, -0.11500701,\n",
       "        -0.19685812,  0.07194055, -0.0215581 , -0.12772206, -0.20414175,\n",
       "         0.61811909,  0.03935462,  0.19968343, -0.10536047,  0.34209459,\n",
       "         0.09404403, -0.23423192,  0.00351261, -0.20853797,  0.2896721 ,\n",
       "        -0.11861118, -0.11738785,  0.23576261,  0.07550618, -0.19319471,\n",
       "         0.01691774, -0.06501375,  0.17440623, -0.00266243,  0.09156288,\n",
       "        -0.20114842, -0.14975831,  0.06492279, -0.25597918,  0.067977  ]),\n",
       " 'A Comprehensive Review Article On Isoprostanes As Biological Markers': array([-0.0346983 ,  0.02937979, -0.20589762,  0.0897898 ,  0.24770243,\n",
       "         0.19016881,  0.19545914, -0.5290488 , -0.05397019, -0.26763801,\n",
       "         0.078123  , -0.13749057, -1.68196258,  0.08558666,  0.17306878,\n",
       "         0.12408392,  0.31974491, -0.00706925,  0.14853396, -0.15010874,\n",
       "        -0.24811686,  0.18373059,  0.05032001, -0.03068495, -0.35029702,\n",
       "         0.54261266,  0.10835681,  0.35567062, -0.13230106,  0.26664197,\n",
       "         0.3122062 , -0.17545316,  0.22329639, -0.15213652,  0.16159413,\n",
       "        -0.26972726, -0.15416164,  0.29917961,  0.10554753, -0.14573282,\n",
       "         0.26753051, -0.03035071,  0.1414866 , -0.1264425 , -0.01984942,\n",
       "        -0.15415771, -0.03619793,  0.18082878, -0.1473592 ,  0.01504145]),\n",
       " 'Molecular Pharmaceuticals': array([ 5.07791972e-02,  1.20683756e-01, -1.86160616e-01,  1.50238339e-01,\n",
       "         3.18463702e-01,  2.20140731e-01,  2.95809339e-01, -3.97519256e-01,\n",
       "        -8.68218132e-03, -2.67013082e-01, -9.80581328e-02, -1.56115011e-01,\n",
       "        -2.05300941e+00,  1.73393465e-01,  1.83815631e-01, -1.46513074e-02,\n",
       "         2.30216595e-01,  1.26504712e-01,  1.54058576e-01, -8.21688064e-02,\n",
       "        -8.66856059e-02,  7.61301262e-02, -2.48992493e-02,  1.43564652e-02,\n",
       "        -3.02140524e-01,  6.18615804e-01,  2.51700265e-02,  2.06476324e-01,\n",
       "        -1.92591807e-03,  1.17269969e-01,  2.96538815e-01, -2.37233887e-01,\n",
       "         3.76587676e-02, -2.59931872e-01,  2.49906991e-01, -1.00187678e-01,\n",
       "        -7.74481950e-02,  2.58062119e-01,  2.06607624e-01, -1.45942380e-01,\n",
       "         1.04232609e-01,  7.63632046e-02,  1.89626846e-01, -7.96445315e-02,\n",
       "         7.89318926e-02, -1.56374247e-01, -3.53109994e-03,  2.61938034e-01,\n",
       "        -2.73365554e-01, -3.83647702e-02]),\n",
       " 'Real Time Calorimetric Characterisation Of Clay Drug Complex Dispersions And Particles': array([-0.13628338,  0.10400959, -0.11142913,  0.10772231,  0.19885369,\n",
       "         0.18276243,  0.13933289, -0.38955966,  0.09026866, -0.3572562 ,\n",
       "        -0.04045118, -0.24318548, -1.39706105,  0.11564507,  0.2402103 ,\n",
       "        -0.00554312,  0.41173238,  0.10316799,  0.21135973, -0.03638833,\n",
       "        -0.24375458, -0.01747384,  0.12685744, -0.01377116, -0.29292415,\n",
       "         0.45055277, -0.02463204,  0.21528227, -0.09706985,  0.19214217,\n",
       "         0.29727062, -0.1057457 ,  0.11084554, -0.29292523,  0.20377419,\n",
       "        -0.21996568, -0.19903101,  0.24440496,  0.17744941, -0.03187789,\n",
       "         0.13323938,  0.08082437,  0.17786006, -0.11261815, -0.052433  ,\n",
       "        -0.15324026, -0.16674628,  0.09339824, -0.07880107,  0.0531226 ])}"
      ]
     },
     "execution_count": 9,
     "metadata": {},
     "output_type": "execute_result"
    }
   ],
   "source": [
    "#Abstract to vector\n",
    "abstract2vec=dict()\n",
    "for key, abstract in abstract_filtered.items():\n",
    "  centroid = np.zeros((50,))\n",
    "  for word in abstract:\n",
    "    try:\n",
    "      centroid += model[word.lower()]\n",
    "    except:\n",
    "      pass\n",
    "  centroid /= len(abstract)\n",
    "  abstract2vec[key] = centroid\n",
    "\n",
    "abstract2vec"
   ]
  },
  {
   "cell_type": "markdown",
   "metadata": {},
   "source": [
    "### Search for a Query"
   ]
  },
  {
   "cell_type": "code",
   "execution_count": 10,
   "metadata": {},
   "outputs": [],
   "source": [
    "class Engine(SearchEngine):\n",
    "    def search(query):\n",
    "        results = dict()\n",
    "        query = query.lower()\n",
    "        #Abstract to vector\n",
    "        query2vec=np.zeros((50,))\n",
    "        query_tokenized=word_tokenize(query)\n",
    "        for word in query_tokenized:\n",
    "          if word not in stop_words:\n",
    "            if word not in puncs:\n",
    "              try:\n",
    "                query2vec+=model[word]\n",
    "              except:\n",
    "                pass\n",
    "        query2vec/=len(query_tokenized)\n",
    "        \n",
    "        for key, abstract_vec in abstract2vec.items():\n",
    "            #round to 4th decimal\n",
    "            cos_sim = round(dot(abstract_vec, query2vec)/(norm(abstract_vec)*norm(query2vec)), 6)*100\n",
    "            results[key]=cos_sim\n",
    "            \n",
    "        return results"
   ]
  },
  {
   "cell_type": "code",
   "execution_count": 11,
   "metadata": {
    "colab": {
     "base_uri": "https://localhost:8080/",
     "height": 191
    },
    "colab_type": "code",
    "id": "PovKfpLQG23t",
    "outputId": "b8855234-9752-441c-c907-ef15e4cb37c2"
   },
   "outputs": [
    {
     "name": "stdout",
     "output_type": "stream",
     "text": [
      "{'A Comprehensive Review Article On Isoprostanes As Biological Markers': 63.2729,\n",
      " 'Anti Toxoplasma Gondii Activity Of 5 Oxo Hexahydroquinoline Derivatives   Synthesis, In Vitro And In Vivo Evaluations, And Molecular Docking Analysis': 64.43480000000001,\n",
      " 'Assembling Structurally Customizable Synthetic Carriers': 68.0523,\n",
      " 'Asymptomatic Carrier State  Acute Respiratory Disease': 53.5597,\n",
      " 'Deamidation In Moxetumomab Pasudotox Leading To Conformational Change And Immunotoxin Activity Loss': 54.85,\n",
      " 'Development Of Muco Adhesive Orally Disintegrating Tablets Containing Tamarind Gum Coated Tea Powder': 55.335,\n",
      " 'Hollow Fiber Based Liquid Phase Microextraction': 62.502,\n",
      " 'Molecular Immune Pathogenesis And Diagnosis Of Covid 19': 56.2859,\n",
      " 'Molecular Pharmaceuticals': 56.2779,\n",
      " 'Multi Dimensional Visualization For The Morphology': 54.019099999999995,\n",
      " 'Nanotechnology And Vaccine Development': 62.91949999999999,\n",
      " 'Pegylation In Anti Cancer Therapy': 59.1595,\n",
      " 'Pharmaceutical Care In A Patient With Recurrent Infection After Liver Transplant': 53.924499999999995,\n",
      " 'Pharmacological Options Beyond Proton Pump Inhibitors In Childrenwith Gastroesophageal Reflux Diseas': 62.129400000000004,\n",
      " 'Phospolipids And Application': 58.7155,\n",
      " 'Phytochemical Screening And Evaluation Of Analgesic And Thrombolytic Activity Of The Crude Methanoli': 58.135000000000005,\n",
      " 'Real Time Calorimetric Characterisation Of Clay Drug Complex Dispersions And Particles': 64.709,\n",
      " 'Recent Advances And Perspectives Of Nucleic Acid': 52.168099999999995,\n",
      " 'Redox Responsive Biocompatible Nanocarriers': 55.475699999999996,\n",
      " 'Redox Sensitive  Peg Shielded Carboxymethyl Pei': 65.2651,\n",
      " 'Regorafenib Loaded Poly  Lactide Co Glycolide  Microspheres': 56.4045,\n",
      " 'The Effect Of Pramlintide, An Antidiabetic Amylin Analogue On Angiogenesis Related Markers In Vitro': 64.9868}\n"
     ]
    }
   ],
   "source": [
    "query = 'the structures phospholipids'\n",
    "\n",
    "pprint(Engine.search(query))"
   ]
  },
  {
   "cell_type": "code",
   "execution_count": 12,
   "metadata": {},
   "outputs": [],
   "source": [
    "eva = Evaluator(corp, Engine)"
   ]
  },
  {
   "cell_type": "code",
   "execution_count": 13,
   "metadata": {},
   "outputs": [
    {
     "name": "stdout",
     "output_type": "stream",
     "text": [
      "Input n: 3\n"
     ]
    },
    {
     "name": "stderr",
     "output_type": "stream",
     "text": [
      "<ipython-input-10-7a3d037b95f7>:19: RuntimeWarning: invalid value encountered in double_scalars\n",
      "  cos_sim = round(dot(abstract_vec, query2vec)/(norm(abstract_vec)*norm(query2vec)), 6)*100\n"
     ]
    },
    {
     "name": "stdout",
     "output_type": "stream",
     "text": [
      "0.5871052631578947\n"
     ]
    }
   ],
   "source": [
    "pprint(eva.evaluate(method='top-N-results', key='abstract', num_queries=200, num_docs=50))"
   ]
  },
  {
   "cell_type": "code",
   "execution_count": 14,
   "metadata": {},
   "outputs": [
    {
     "name": "stdout",
     "output_type": "stream",
     "text": [
      "Input n: 3\n"
     ]
    },
    {
     "name": "stderr",
     "output_type": "stream",
     "text": [
      "<ipython-input-10-7a3d037b95f7>:19: RuntimeWarning: invalid value encountered in double_scalars\n",
      "  cos_sim = round(dot(abstract_vec, query2vec)/(norm(abstract_vec)*norm(query2vec)), 6)*100\n"
     ]
    },
    {
     "name": "stdout",
     "output_type": "stream",
     "text": [
      "0.27175\n"
     ]
    }
   ],
   "source": [
    "pprint(eva.evaluate(method='top-N-results', key='all', num_queries=200, num_docs=50))"
   ]
  },
  {
   "cell_type": "code",
   "execution_count": 17,
   "metadata": {},
   "outputs": [
    {
     "data": {
      "text/plain": [
       "{'Regorafenib Loaded Poly  Lactide Co Glycolide  Microspheres': 73.81269999999999,\n",
       " 'Asymptomatic Carrier State  Acute Respiratory Disease': 76.52590000000001,\n",
       " 'Phospolipids And Application': 59.61070000000001,\n",
       " 'Deamidation In Moxetumomab Pasudotox Leading To Conformational Change And Immunotoxin Activity Loss': 63.37049999999999,\n",
       " 'Assembling Structurally Customizable Synthetic Carriers': 62.585800000000006,\n",
       " 'Molecular Immune Pathogenesis And Diagnosis Of Covid 19': 75.82419999999999,\n",
       " 'Redox Sensitive  Peg Shielded Carboxymethyl Pei': 67.4353,\n",
       " 'Development Of Muco Adhesive Orally Disintegrating Tablets Containing Tamarind Gum Coated Tea Powder': 62.4396,\n",
       " 'Anti Toxoplasma Gondii Activity Of 5 Oxo Hexahydroquinoline Derivatives   Synthesis, In Vitro And In Vivo Evaluations, And Molecular Docking Analysis': 68.78659999999999,\n",
       " 'The Effect Of Pramlintide, An Antidiabetic Amylin Analogue On Angiogenesis Related Markers In Vitro': 72.394,\n",
       " 'Pharmaceutical Care In A Patient With Recurrent Infection After Liver Transplant': 81.5168,\n",
       " 'Nanotechnology And Vaccine Development': 65.5983,\n",
       " 'Hollow Fiber Based Liquid Phase Microextraction': 63.4389,\n",
       " 'Pharmacological Options Beyond Proton Pump Inhibitors In Childrenwith Gastroesophageal Reflux Diseas': 81.1849,\n",
       " 'Pegylation In Anti Cancer Therapy': 67.4527,\n",
       " 'Phytochemical Screening And Evaluation Of Analgesic And Thrombolytic Activity Of The Crude Methanoli': 69.7075,\n",
       " 'Multi Dimensional Visualization For The Morphology': 59.3682,\n",
       " 'Redox Responsive Biocompatible Nanocarriers': 62.7632,\n",
       " 'Recent Advances And Perspectives Of Nucleic Acid': 70.7921,\n",
       " 'A Comprehensive Review Article On Isoprostanes As Biological Markers': 70.29419999999999,\n",
       " 'Molecular Pharmaceuticals': 60.65239999999999,\n",
       " 'Real Time Calorimetric Characterisation Of Clay Drug Complex Dispersions And Particles': 63.9612}"
      ]
     },
     "execution_count": 17,
     "metadata": {},
     "output_type": "execute_result"
    }
   ],
   "source": [
    "Engine.search('Melanoma Treatment')"
   ]
  },
  {
   "cell_type": "code",
   "execution_count": null,
   "metadata": {},
   "outputs": [],
   "source": []
  }
 ],
 "metadata": {
  "colab": {
   "name": "Semantic Search Model.ipynb",
   "provenance": []
  },
  "kernelspec": {
   "display_name": "Python 3",
   "language": "python",
   "name": "python3"
  },
  "language_info": {
   "codemirror_mode": {
    "name": "ipython",
    "version": 3
   },
   "file_extension": ".py",
   "mimetype": "text/x-python",
   "name": "python",
   "nbconvert_exporter": "python",
   "pygments_lexer": "ipython3",
   "version": "3.8.5"
  }
 },
 "nbformat": 4,
 "nbformat_minor": 1
}
